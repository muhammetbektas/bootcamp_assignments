{
 "cells": [
  {
   "cell_type": "code",
   "execution_count": 1,
   "metadata": {},
   "outputs": [],
   "source": [
    "import matplotlib.pyplot as plt\n",
    "%matplotlib inline\n",
    "import numpy as np\n",
    "import pandas as pd\n",
    "import warnings\n",
    "warnings.filterwarnings('ignore')"
   ]
  },
  {
   "cell_type": "code",
   "execution_count": 11,
   "metadata": {
    "scrolled": false
   },
   "outputs": [
    {
     "data": {
      "text/html": [
       "<div>\n",
       "<style scoped>\n",
       "    .dataframe tbody tr th:only-of-type {\n",
       "        vertical-align: middle;\n",
       "    }\n",
       "\n",
       "    .dataframe tbody tr th {\n",
       "        vertical-align: top;\n",
       "    }\n",
       "\n",
       "    .dataframe thead th {\n",
       "        text-align: right;\n",
       "    }\n",
       "</style>\n",
       "<table border=\"1\" class=\"dataframe\">\n",
       "  <thead>\n",
       "    <tr style=\"text-align: right;\">\n",
       "      <th></th>\n",
       "      <th>Code</th>\n",
       "      <th>Type</th>\n",
       "      <th>Indicator Name</th>\n",
       "      <th>1960</th>\n",
       "      <th>1961</th>\n",
       "      <th>1962</th>\n",
       "      <th>1963</th>\n",
       "      <th>1964</th>\n",
       "      <th>1965</th>\n",
       "      <th>1966</th>\n",
       "      <th>...</th>\n",
       "      <th>2009</th>\n",
       "      <th>2010</th>\n",
       "      <th>2011</th>\n",
       "      <th>2012</th>\n",
       "      <th>2013</th>\n",
       "      <th>2014</th>\n",
       "      <th>2015</th>\n",
       "      <th>2016</th>\n",
       "      <th>2017</th>\n",
       "      <th>2018</th>\n",
       "    </tr>\n",
       "    <tr>\n",
       "      <th>Name</th>\n",
       "      <th></th>\n",
       "      <th></th>\n",
       "      <th></th>\n",
       "      <th></th>\n",
       "      <th></th>\n",
       "      <th></th>\n",
       "      <th></th>\n",
       "      <th></th>\n",
       "      <th></th>\n",
       "      <th></th>\n",
       "      <th></th>\n",
       "      <th></th>\n",
       "      <th></th>\n",
       "      <th></th>\n",
       "      <th></th>\n",
       "      <th></th>\n",
       "      <th></th>\n",
       "      <th></th>\n",
       "      <th></th>\n",
       "      <th></th>\n",
       "      <th></th>\n",
       "    </tr>\n",
       "  </thead>\n",
       "  <tbody>\n",
       "    <tr>\n",
       "      <td>Australia</td>\n",
       "      <td>AUS</td>\n",
       "      <td>Country</td>\n",
       "      <td>Military expenditure (current USD)</td>\n",
       "      <td>4.597601e+08</td>\n",
       "      <td>4.709601e+08</td>\n",
       "      <td>489440078.3</td>\n",
       "      <td>553280088.5</td>\n",
       "      <td>655760104.9</td>\n",
       "      <td>787360126.0</td>\n",
       "      <td>986720157.9</td>\n",
       "      <td>...</td>\n",
       "      <td>1.896014e+10</td>\n",
       "      <td>2.321769e+10</td>\n",
       "      <td>2.659720e+10</td>\n",
       "      <td>2.621658e+10</td>\n",
       "      <td>2.482526e+10</td>\n",
       "      <td>2.578371e+10</td>\n",
       "      <td>2.404557e+10</td>\n",
       "      <td>2.638295e+10</td>\n",
       "      <td>2.769111e+10</td>\n",
       "      <td>2.671183e+10</td>\n",
       "    </tr>\n",
       "    <tr>\n",
       "      <td>Austria</td>\n",
       "      <td>AUT</td>\n",
       "      <td>Country</td>\n",
       "      <td>Military expenditure (current USD)</td>\n",
       "      <td>9.155910e+07</td>\n",
       "      <td>9.102985e+07</td>\n",
       "      <td>100026991.4</td>\n",
       "      <td>125959915.1</td>\n",
       "      <td>164594679.0</td>\n",
       "      <td>142895702.0</td>\n",
       "      <td>167770139.0</td>\n",
       "      <td>...</td>\n",
       "      <td>3.334755e+09</td>\n",
       "      <td>3.218351e+09</td>\n",
       "      <td>3.409721e+09</td>\n",
       "      <td>3.187227e+09</td>\n",
       "      <td>3.229066e+09</td>\n",
       "      <td>3.305159e+09</td>\n",
       "      <td>2.665410e+09</td>\n",
       "      <td>2.885947e+09</td>\n",
       "      <td>3.138359e+09</td>\n",
       "      <td>3.367460e+09</td>\n",
       "    </tr>\n",
       "    <tr>\n",
       "      <td>Belgium</td>\n",
       "      <td>BEL</td>\n",
       "      <td>Country</td>\n",
       "      <td>Military expenditure (current USD)</td>\n",
       "      <td>3.832202e+08</td>\n",
       "      <td>3.912188e+08</td>\n",
       "      <td>422220787.9</td>\n",
       "      <td>444601321.5</td>\n",
       "      <td>497059226.9</td>\n",
       "      <td>500722082.8</td>\n",
       "      <td>563377895.4</td>\n",
       "      <td>...</td>\n",
       "      <td>5.620670e+09</td>\n",
       "      <td>5.244721e+09</td>\n",
       "      <td>5.499371e+09</td>\n",
       "      <td>5.168998e+09</td>\n",
       "      <td>5.263165e+09</td>\n",
       "      <td>5.191509e+09</td>\n",
       "      <td>4.202063e+09</td>\n",
       "      <td>4.314102e+09</td>\n",
       "      <td>4.484653e+09</td>\n",
       "      <td>4.959692e+09</td>\n",
       "    </tr>\n",
       "  </tbody>\n",
       "</table>\n",
       "<p>3 rows × 62 columns</p>\n",
       "</div>"
      ],
      "text/plain": [
       "          Code     Type                      Indicator Name          1960  \\\n",
       "Name                                                                        \n",
       "Australia  AUS  Country  Military expenditure (current USD)  4.597601e+08   \n",
       "Austria    AUT  Country  Military expenditure (current USD)  9.155910e+07   \n",
       "Belgium    BEL  Country  Military expenditure (current USD)  3.832202e+08   \n",
       "\n",
       "                   1961         1962         1963         1964         1965  \\\n",
       "Name                                                                          \n",
       "Australia  4.709601e+08  489440078.3  553280088.5  655760104.9  787360126.0   \n",
       "Austria    9.102985e+07  100026991.4  125959915.1  164594679.0  142895702.0   \n",
       "Belgium    3.912188e+08  422220787.9  444601321.5  497059226.9  500722082.8   \n",
       "\n",
       "                  1966  ...          2009          2010          2011  \\\n",
       "Name                    ...                                             \n",
       "Australia  986720157.9  ...  1.896014e+10  2.321769e+10  2.659720e+10   \n",
       "Austria    167770139.0  ...  3.334755e+09  3.218351e+09  3.409721e+09   \n",
       "Belgium    563377895.4  ...  5.620670e+09  5.244721e+09  5.499371e+09   \n",
       "\n",
       "                   2012          2013          2014          2015  \\\n",
       "Name                                                                \n",
       "Australia  2.621658e+10  2.482526e+10  2.578371e+10  2.404557e+10   \n",
       "Austria    3.187227e+09  3.229066e+09  3.305159e+09  2.665410e+09   \n",
       "Belgium    5.168998e+09  5.263165e+09  5.191509e+09  4.202063e+09   \n",
       "\n",
       "                   2016          2017          2018  \n",
       "Name                                                 \n",
       "Australia  2.638295e+10  2.769111e+10  2.671183e+10  \n",
       "Austria    2.885947e+09  3.138359e+09  3.367460e+09  \n",
       "Belgium    4.314102e+09  4.484653e+09  4.959692e+09  \n",
       "\n",
       "[3 rows x 62 columns]"
      ]
     },
     "execution_count": 11,
     "metadata": {},
     "output_type": "execute_result"
    }
   ],
   "source": [
    "df=pd.read_csv('../Military Expenditure.csv').set_index(\"Name\")\n",
    "# Nan değerleri atabilirim. Çünkü yeterince veri var elimde\n",
    "df.dropna(inplace=True)\n",
    "df.head(3)"
   ]
  },
  {
   "cell_type": "code",
   "execution_count": 35,
   "metadata": {},
   "outputs": [
    {
     "data": {
      "text/plain": [
       "Index(['Turkey', 'Belgium', 'Austria'], dtype='object', name='Name')"
      ]
     },
     "execution_count": 35,
     "metadata": {},
     "output_type": "execute_result"
    }
   ],
   "source": [
    "df2=df.loc[['Turkey', 'Belgium','Austria']]\n",
    "df2.index"
   ]
  },
  {
   "cell_type": "code",
   "execution_count": 39,
   "metadata": {},
   "outputs": [
    {
     "data": {
      "image/png": "[encoded data removed]",
      "text/plain": [
       "<Figure size 1440x360 with 2 Axes>"
      ]
     },
     "metadata": {
      "needs_background": "light"
     },
     "output_type": "display_data"
    }
   ],
   "source": [
    "plt.figure(figsize=(20,5))\n",
    "plt.subplot(1,2,1)\n",
    "plt.bar(df2.index,df2['1960'], color='green')\n",
    "plt.xlabel(\"Ülkeler\")\n",
    "plt.ylabel(\"Harcama Miktarları\")\n",
    "plt.title('1960 Yılında Ülkelerin Savunma Harcamaları')\n",
    "\n",
    "plt.subplot(1,2,2)\n",
    "plt.bar(df2.index,df2['2018'], color='purple')\n",
    "plt.xlabel(\"Ülkeler\")\n",
    "plt.ylabel(\"Harcama Miktarları\")\n",
    "plt.title('2018 Yılında Ülkelerin Savunma Harcamaları')\n",
    "plt.show()"
   ]
  }
 ],
 "metadata": {
  "kernelspec": {
   "display_name": "Python 3",
   "language": "python",
   "name": "python3"
  },
  "language_info": {
   "codemirror_mode": {
    "name": "ipython",
    "version": 3
   },
   "file_extension": ".py",
   "mimetype": "text/x-python",
   "name": "python",
   "nbconvert_exporter": "python",
   "pygments_lexer": "ipython3",
   "version": "3.7.4"
  }
 },
 "nbformat": 4,
 "nbformat_minor": 2
}
