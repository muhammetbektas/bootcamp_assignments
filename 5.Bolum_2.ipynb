{
 "cells": [
  {
   "cell_type": "markdown",
   "metadata": {},
   "source": [
    "### Veri tabanı ne işe yarar? SQL' i hangi amaçlarla kullanırız?"
   ]
  },
  {
   "cell_type": "markdown",
   "metadata": {},
   "source": [
    "Veri tabanı verileri saklamaya ve yönetmeye yarar. Bu sistemde bilgiler tablolar ile saklanmaktadır.En yaygın veritabanı türlerindeki veriler genellikle işlemeyi ve veri sorgulamayı verimli hale getirmek üzere bir dizi tablodaki satırlarda ve sütunlarda modellenir. Böylece veriler kolayca erişilebilir, yönetilebilir, değiştirilebilir, güncellenebilir, kontrol edilebilir ve organize edilebilir hale getirilir.Ayrıca her bir bilginin benzersiz olarak tanımlanmış olduğu ID numarası da vardır.\n",
    "SQL’in ana amacı sınırsız sayıdaki veri arasından dilediğiniz veriyi bulmak, sınırsız sayıdaki veri arasından istediğiniz her sorguyu yapabilmek, veritabanına yeni veriler kaydetmek, veritabanında var olan verileri çekmek, güncellemek, düzenlemek ve silmek, veritabanı içinde yeni bir tablo oluşturmak, yeni veritabanı eklemek ya da mevcut veritabanını değiştirmek gibi işlemleri yapmaktır."
   ]
  }
 ],
 "metadata": {
  "kernelspec": {
   "display_name": "Python 3",
   "language": "python",
   "name": "python3"
  },
  "language_info": {
   "codemirror_mode": {
    "name": "ipython",
    "version": 3
   },
   "file_extension": ".py",
   "mimetype": "text/x-python",
   "name": "python",
   "nbconvert_exporter": "python",
   "pygments_lexer": "ipython3",
   "version": "3.7.3"
  }
 },
 "nbformat": 4,
 "nbformat_minor": 2
}
