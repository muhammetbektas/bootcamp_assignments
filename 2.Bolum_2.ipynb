{
 "cells": [
  {
   "cell_type": "code",
   "execution_count": 9,
   "metadata": {},
   "outputs": [
    {
     "name": "stdout",
     "output_type": "stream",
     "text": [
      "Bitcoine yatırılan 1000 $\n",
      "Günlük %12 kazanç ile bir haftada 1210.68 $ olur.\n"
     ]
    }
   ],
   "source": [
    "anapara=1000\n",
    "gunlukartis=0.12\n",
    "toplam=anapara*((1+gunlukartis)**7)-anapara\n",
    "print(\"Bitcoine yatırılan 1000 $\\nGünlük %12 kazanç ile bir haftada\", round(toplam,2) ,\"$ olur.\")"
   ]
  },
  {
   "cell_type": "code",
   "execution_count": 10,
   "metadata": {},
   "outputs": [
    {
     "name": "stdout",
     "output_type": "stream",
     "text": [
      "Hafta başında 1000 dolarlık bitcoin aldığımızda günde ortalama %12 kazançla\n",
      "bir hafta sonunda 1210.68 dolar kazanırdık.\n"
     ]
    }
   ],
   "source": [
    "artis=\"%12\"\n",
    "metin=\"Hafta başında {} dolarlık bitcoin aldığımızda günde ortalama {} kazançla\\nbir hafta sonunda {} dolar kazanırdık.\"\n",
    "print(metin.format(anapara,artis,round(toplam,2)))"
   ]
  },
  {
   "cell_type": "code",
   "execution_count": 11,
   "metadata": {},
   "outputs": [
    {
     "name": "stdout",
     "output_type": "stream",
     "text": [
      "Dosya adını giriniz: dosya\n",
      "\n",
      "Dosyanız dosya.py olarak kaydedilecek.\n"
     ]
    }
   ],
   "source": [
    "print(\"\\nDosyanız {}.py olarak kaydedilecek.\".format(input(\"Dosya adını giriniz: \")))"
   ]
  }
 ],
 "metadata": {
  "kernelspec": {
   "display_name": "Python 3",
   "language": "python",
   "name": "python3"
  },
  "language_info": {
   "codemirror_mode": {
    "name": "ipython",
    "version": 3
   },
   "file_extension": ".py",
   "mimetype": "text/x-python",
   "name": "python",
   "nbconvert_exporter": "python",
   "pygments_lexer": "ipython3",
   "version": "3.7.4"
  }
 },
 "nbformat": 4,
 "nbformat_minor": 2
}
