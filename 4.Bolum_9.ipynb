{
 "cells": [
  {
   "cell_type": "markdown",
   "metadata": {},
   "source": [
    "### Soru 1"
   ]
  },
  {
   "cell_type": "markdown",
   "metadata": {},
   "source": [
    "Paranın yazı veya tura gelmesini etkileyecek özelliklerden bazıları şunlar olabilir; paranın yarıçapı, havaya atarken hangi yüzün yukarı yöne bakması, paranın yerden yüksekliği."
   ]
  },
  {
   "cell_type": "markdown",
   "metadata": {},
   "source": [
    "x1=paranin yaricapi\n",
    "\n",
    "x2=paranin yukari bakan yuzu\n",
    "\n",
    "x3=paranin yerden yuksekligi"
   ]
  },
  {
   "cell_type": "markdown",
   "metadata": {},
   "source": [
    "Z= ±a*x1±b*x2±cx3\n",
    "\n",
    "a,b,c:Katsayilar"
   ]
  },
  {
   "cell_type": "markdown",
   "metadata": {},
   "source": [
    "### Soru 2"
   ]
  },
  {
   "cell_type": "code",
   "execution_count": null,
   "metadata": {},
   "outputs": [],
   "source": [
    "Netflix`in tavsiye sistemi için ekleyebileceğimiz diğer bazı özellikler şunlar olabilir:\n",
    "-Mevsimlere göre film/dizi önerisi\n",
    "-Geri bildirim döngüsü oluşturarak beğenilen film/dizi türlerini önermek"
   ]
  }
 ],
 "metadata": {
  "kernelspec": {
   "display_name": "Python 3",
   "language": "python",
   "name": "python3"
  },
  "language_info": {
   "codemirror_mode": {
    "name": "ipython",
    "version": 3
   },
   "file_extension": ".py",
   "mimetype": "text/x-python",
   "name": "python",
   "nbconvert_exporter": "python",
   "pygments_lexer": "ipython3",
   "version": "3.7.3"
  }
 },
 "nbformat": 4,
 "nbformat_minor": 2
}
