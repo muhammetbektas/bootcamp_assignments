{
 "cells": [
  {
   "cell_type": "markdown",
   "metadata": {},
   "source": [
    "#### SORU 1"
   ]
  },
  {
   "cell_type": "markdown",
   "metadata": {},
   "source": [
    "SELECT customerName,\n",
    "\n",
    "max(creditLimit) as kredi_limit_max\n",
    "\n",
    "FROM customers;"
   ]
  },
  {
   "cell_type": "markdown",
   "metadata": {},
   "source": [
    "#### SORU 2"
   ]
  },
  {
   "cell_type": "markdown",
   "metadata": {},
   "source": [
    "SELECT country,\n",
    "\n",
    "count(*) as musteri_sayisi\n",
    "\n",
    "FROM customers\n",
    "\n",
    "GROUP BY country;"
   ]
  },
  {
   "cell_type": "markdown",
   "metadata": {},
   "source": [
    "#### SORU 3"
   ]
  },
  {
   "cell_type": "markdown",
   "metadata": {},
   "source": [
    "SELECT customerNumber,min(siparis_sayisi)\n",
    "\n",
    "FROM(SELECT customerNumber,count(*) as siparis_sayisi\n",
    "\n",
    "FROM orders\n",
    "\n",
    "GROUP BY customerNumber) as siparis;"
   ]
  }
 ],
 "metadata": {
  "kernelspec": {
   "display_name": "Python 3",
   "language": "python",
   "name": "python3"
  },
  "language_info": {
   "codemirror_mode": {
    "name": "ipython",
    "version": 3
   },
   "file_extension": ".py",
   "mimetype": "text/x-python",
   "name": "python",
   "nbconvert_exporter": "python",
   "pygments_lexer": "ipython3",
   "version": "3.7.3"
  }
 },
 "nbformat": 4,
 "nbformat_minor": 2
}
