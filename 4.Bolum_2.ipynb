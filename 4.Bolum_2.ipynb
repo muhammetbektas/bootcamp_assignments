{
 "cells": [
  {
   "cell_type": "code",
   "execution_count": 2,
   "metadata": {},
   "outputs": [
    {
     "data": {
      "text/plain": [
       "'1) Rank değişkenini kategorik olarak değerlendirirsek çok fazla kategori oluşur ve bu değişkeni kullanarak diğer sütunlar arasında anlamlı bir ilişki kuramayız. Kategorik değikenlerde görülme sıklığı(frekansı) önemlidir. Bence böyle bir dezavantajı var avantaj olarak aklıma gelen bir şey gelmedi.'"
      ]
     },
     "execution_count": 2,
     "metadata": {},
     "output_type": "execute_result"
    }
   ],
   "source": [
    "'1) Rank değişkenini kategorik olarak değerlendirirsek çok fazla kategori oluşur ve bu değişkeni kullanarak diğer sütunlar arasında anlamlı bir ilişki kuramayız. Kategorik değikenlerde görülme sıklığı(frekansı) önemlidir. Bence böyle bir dezavantajı var avantaj olarak aklıma gelen bir şey gelmedi.'"
   ]
  },
  {
   "cell_type": "code",
   "execution_count": 5,
   "metadata": {},
   "outputs": [
    {
     "name": "stdout",
     "output_type": "stream",
     "text": [
      "Yaş: Sürekli D.\n",
      "Maaş: Sürekli D.\n",
      "Gelir: Sürekli D.\n",
      "Müşteri Türü: Kategorik D.\n",
      "Hisse Senedi Fiyatı: Sürekli D.\n"
     ]
    }
   ],
   "source": [
    "print('Yaş: Sürekli D.\\nMaaş: Sürekli D.\\nGelir: Sürekli D.\\nMüşteri Türü: Kategorik D.\\nHisse Senedi Fiyatı: Sürekli D.')"
   ]
  },
  {
   "cell_type": "code",
   "execution_count": null,
   "metadata": {},
   "outputs": [],
   "source": []
  }
 ],
 "metadata": {
  "kernelspec": {
   "display_name": "Python 3",
   "language": "python",
   "name": "python3"
  },
  "language_info": {
   "codemirror_mode": {
    "name": "ipython",
    "version": 3
   },
   "file_extension": ".py",
   "mimetype": "text/x-python",
   "name": "python",
   "nbconvert_exporter": "python",
   "pygments_lexer": "ipython3",
   "version": "3.7.3"
  }
 },
 "nbformat": 4,
 "nbformat_minor": 2
}
