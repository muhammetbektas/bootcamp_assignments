{
 "cells": [
  {
   "cell_type": "code",
   "execution_count": 27,
   "metadata": {},
   "outputs": [],
   "source": [
    "import matplotlib.pyplot as plt\n",
    "import numpy as np\n",
    "import pandas as pd\n",
    "import seaborn as sns\n",
    "import scipy.stats as stats\n",
    "from scipy.stats.stats import ttest_ind\n",
    "from sqlalchemy import create_engine\n",
    "import warnings\n",
    "\n",
    "warnings.filterwarnings('ignore')\n",
    "sns.set(style=\"whitegrid\")\n",
    "pd.options.display.float_format = '{:.3f}'.format\n",
    "plt.rcParams['figure.dpi'] = 100\n",
    "plt.rcParams['figure.figsize'] = (8,5.5)"
   ]
  },
  {
   "cell_type": "code",
   "execution_count": 8,
   "metadata": {},
   "outputs": [],
   "source": [
    "ogrenciler=pd.read_csv('../StudentsPerformance.csv')\n",
    "ogrenciler.columns=['cinsiyet', 'koken', 'aile_egt_seviyesi', 'ogle_yemegi', \n",
    "                              'hazirlik_kursu', 'matematik_notu', 'okuma_notu', 'yazma_notu']\n",
    "baslik_font={'family':'arial','color':'darkred','weight':'bold','size':13}\n",
    "eksen_font={'family':'arial','color':'darkblue','weight':'bold','size':10}"
   ]
  },
  {
   "cell_type": "code",
   "execution_count": 6,
   "metadata": {},
   "outputs": [
    {
     "data": {
      "text/html": [
       "<div>\n",
       "<style scoped>\n",
       "    .dataframe tbody tr th:only-of-type {\n",
       "        vertical-align: middle;\n",
       "    }\n",
       "\n",
       "    .dataframe tbody tr th {\n",
       "        vertical-align: top;\n",
       "    }\n",
       "\n",
       "    .dataframe thead th {\n",
       "        text-align: right;\n",
       "    }\n",
       "</style>\n",
       "<table border=\"1\" class=\"dataframe\">\n",
       "  <thead>\n",
       "    <tr style=\"text-align: right;\">\n",
       "      <th></th>\n",
       "      <th>cinsiyet</th>\n",
       "      <th>koken</th>\n",
       "      <th>aile_egt_seviyesi</th>\n",
       "      <th>ogle_yemegi</th>\n",
       "      <th>hazirlik_kursu</th>\n",
       "      <th>matematik_notu</th>\n",
       "      <th>okuma_notu</th>\n",
       "      <th>yazma_notu</th>\n",
       "    </tr>\n",
       "  </thead>\n",
       "  <tbody>\n",
       "    <tr>\n",
       "      <th>0</th>\n",
       "      <td>female</td>\n",
       "      <td>group B</td>\n",
       "      <td>bachelor's degree</td>\n",
       "      <td>standard</td>\n",
       "      <td>none</td>\n",
       "      <td>72</td>\n",
       "      <td>72</td>\n",
       "      <td>74</td>\n",
       "    </tr>\n",
       "    <tr>\n",
       "      <th>1</th>\n",
       "      <td>female</td>\n",
       "      <td>group C</td>\n",
       "      <td>some college</td>\n",
       "      <td>standard</td>\n",
       "      <td>completed</td>\n",
       "      <td>69</td>\n",
       "      <td>90</td>\n",
       "      <td>88</td>\n",
       "    </tr>\n",
       "    <tr>\n",
       "      <th>2</th>\n",
       "      <td>female</td>\n",
       "      <td>group B</td>\n",
       "      <td>master's degree</td>\n",
       "      <td>standard</td>\n",
       "      <td>none</td>\n",
       "      <td>90</td>\n",
       "      <td>95</td>\n",
       "      <td>93</td>\n",
       "    </tr>\n",
       "    <tr>\n",
       "      <th>3</th>\n",
       "      <td>male</td>\n",
       "      <td>group A</td>\n",
       "      <td>associate's degree</td>\n",
       "      <td>free/reduced</td>\n",
       "      <td>none</td>\n",
       "      <td>47</td>\n",
       "      <td>57</td>\n",
       "      <td>44</td>\n",
       "    </tr>\n",
       "    <tr>\n",
       "      <th>4</th>\n",
       "      <td>male</td>\n",
       "      <td>group C</td>\n",
       "      <td>some college</td>\n",
       "      <td>standard</td>\n",
       "      <td>none</td>\n",
       "      <td>76</td>\n",
       "      <td>78</td>\n",
       "      <td>75</td>\n",
       "    </tr>\n",
       "  </tbody>\n",
       "</table>\n",
       "</div>"
      ],
      "text/plain": [
       "  cinsiyet    koken   aile_egt_seviyesi   ogle_yemegi hazirlik_kursu  \\\n",
       "0   female  group B   bachelor's degree      standard           none   \n",
       "1   female  group C        some college      standard      completed   \n",
       "2   female  group B     master's degree      standard           none   \n",
       "3     male  group A  associate's degree  free/reduced           none   \n",
       "4     male  group C        some college      standard           none   \n",
       "\n",
       "   matematik_notu  okuma_notu  yazma_notu  \n",
       "0              72          72          74  \n",
       "1              69          90          88  \n",
       "2              90          95          93  \n",
       "3              47          57          44  \n",
       "4              76          78          75  "
      ]
     },
     "execution_count": 6,
     "metadata": {},
     "output_type": "execute_result"
    }
   ],
   "source": [
    "ogrenciler.head()"
   ]
  },
  {
   "cell_type": "code",
   "execution_count": 7,
   "metadata": {},
   "outputs": [
    {
     "data": {
      "text/html": [
       "<div>\n",
       "<style scoped>\n",
       "    .dataframe tbody tr th:only-of-type {\n",
       "        vertical-align: middle;\n",
       "    }\n",
       "\n",
       "    .dataframe tbody tr th {\n",
       "        vertical-align: top;\n",
       "    }\n",
       "\n",
       "    .dataframe thead th {\n",
       "        text-align: right;\n",
       "    }\n",
       "</style>\n",
       "<table border=\"1\" class=\"dataframe\">\n",
       "  <thead>\n",
       "    <tr style=\"text-align: right;\">\n",
       "      <th></th>\n",
       "      <th>matematik_notu</th>\n",
       "      <th>okuma_notu</th>\n",
       "      <th>yazma_notu</th>\n",
       "    </tr>\n",
       "    <tr>\n",
       "      <th>cinsiyet</th>\n",
       "      <th></th>\n",
       "      <th></th>\n",
       "      <th></th>\n",
       "    </tr>\n",
       "  </thead>\n",
       "  <tbody>\n",
       "    <tr>\n",
       "      <th>female</th>\n",
       "      <td>63.633</td>\n",
       "      <td>72.608</td>\n",
       "      <td>72.467</td>\n",
       "    </tr>\n",
       "    <tr>\n",
       "      <th>male</th>\n",
       "      <td>68.728</td>\n",
       "      <td>65.473</td>\n",
       "      <td>63.311</td>\n",
       "    </tr>\n",
       "  </tbody>\n",
       "</table>\n",
       "</div>"
      ],
      "text/plain": [
       "          matematik_notu  okuma_notu  yazma_notu\n",
       "cinsiyet                                        \n",
       "female            63.633      72.608      72.467\n",
       "male              68.728      65.473      63.311"
      ]
     },
     "execution_count": 7,
     "metadata": {},
     "output_type": "execute_result"
    }
   ],
   "source": [
    "ogrenciler.groupby('cinsiyet').mean()"
   ]
  },
  {
   "cell_type": "code",
   "execution_count": 11,
   "metadata": {},
   "outputs": [
    {
     "data": {
      "image/png": "[encoded data removed]",
      "text/plain": [
       "<Figure size 1296x360 with 3 Axes>"
      ]
     },
     "metadata": {
      "needs_background": "light"
     },
     "output_type": "display_data"
    }
   ],
   "source": [
    "plt.figure(figsize=(18,5))\n",
    "\n",
    "plt.subplot(1,3,1)\n",
    "sns.barplot(ogrenciler['cinsiyet'],ogrenciler['matematik_notu'])\n",
    "plt.title('Matematik Notlari',fontdict=baslik_font)\n",
    "\n",
    "plt.subplot(1,3,2)\n",
    "sns.barplot(ogrenciler['cinsiyet'],ogrenciler['okuma_notu'])\n",
    "plt.title('Okuma Notlari',fontdict=baslik_font)\n",
    "\n",
    "plt.subplot(1,3,3)\n",
    "sns.barplot(ogrenciler.cinsiyet,ogrenciler.yazma_notu)\n",
    "plt.title('Yazma Notlari',fontdict=baslik_font)\n",
    "\n",
    "plt.show()"
   ]
  },
  {
   "cell_type": "code",
   "execution_count": 28,
   "metadata": {},
   "outputs": [
    {
     "data": {
      "text/plain": [
       "Ttest_indResult(statistic=array([-5.38324587,  7.95930801,  9.97955791]), pvalue=array([9.12018555e-08, 4.68053874e-15, 2.01987771e-22]))"
      ]
     },
     "execution_count": 28,
     "metadata": {},
     "output_type": "execute_result"
    }
   ],
   "source": [
    "ttest_ind(ogrenciler[ogrenciler.cinsiyet=='female'][['matematik_notu','okuma_notu','yazma_notu']],\n",
    "                      ogrenciler[ogrenciler.cinsiyet=='male'][['matematik_notu','okuma_notu','yazma_notu']])"
   ]
  },
  {
   "cell_type": "code",
   "execution_count": 29,
   "metadata": {},
   "outputs": [
    {
     "data": {
      "text/html": [
       "<div>\n",
       "<style scoped>\n",
       "    .dataframe tbody tr th:only-of-type {\n",
       "        vertical-align: middle;\n",
       "    }\n",
       "\n",
       "    .dataframe tbody tr th {\n",
       "        vertical-align: top;\n",
       "    }\n",
       "\n",
       "    .dataframe thead th {\n",
       "        text-align: right;\n",
       "    }\n",
       "</style>\n",
       "<table border=\"1\" class=\"dataframe\">\n",
       "  <thead>\n",
       "    <tr style=\"text-align: right;\">\n",
       "      <th></th>\n",
       "      <th>matematik_notu</th>\n",
       "      <th>okuma_notu</th>\n",
       "      <th>yazma_notu</th>\n",
       "    </tr>\n",
       "    <tr>\n",
       "      <th>koken</th>\n",
       "      <th></th>\n",
       "      <th></th>\n",
       "      <th></th>\n",
       "    </tr>\n",
       "  </thead>\n",
       "  <tbody>\n",
       "    <tr>\n",
       "      <th>group A</th>\n",
       "      <td>61.629</td>\n",
       "      <td>64.674</td>\n",
       "      <td>62.674</td>\n",
       "    </tr>\n",
       "    <tr>\n",
       "      <th>group B</th>\n",
       "      <td>63.453</td>\n",
       "      <td>67.353</td>\n",
       "      <td>65.600</td>\n",
       "    </tr>\n",
       "    <tr>\n",
       "      <th>group C</th>\n",
       "      <td>64.464</td>\n",
       "      <td>69.103</td>\n",
       "      <td>67.828</td>\n",
       "    </tr>\n",
       "    <tr>\n",
       "      <th>group D</th>\n",
       "      <td>67.363</td>\n",
       "      <td>70.031</td>\n",
       "      <td>70.145</td>\n",
       "    </tr>\n",
       "    <tr>\n",
       "      <th>group E</th>\n",
       "      <td>73.821</td>\n",
       "      <td>73.029</td>\n",
       "      <td>71.407</td>\n",
       "    </tr>\n",
       "  </tbody>\n",
       "</table>\n",
       "</div>"
      ],
      "text/plain": [
       "         matematik_notu  okuma_notu  yazma_notu\n",
       "koken                                          \n",
       "group A          61.629      64.674      62.674\n",
       "group B          63.453      67.353      65.600\n",
       "group C          64.464      69.103      67.828\n",
       "group D          67.363      70.031      70.145\n",
       "group E          73.821      73.029      71.407"
      ]
     },
     "execution_count": 29,
     "metadata": {},
     "output_type": "execute_result"
    }
   ],
   "source": [
    "ogrenciler.groupby('koken').mean()[['matematik_notu','okuma_notu','yazma_notu']]"
   ]
  },
  {
   "cell_type": "code",
   "execution_count": 31,
   "metadata": {},
   "outputs": [],
   "source": [
    "kokenler=ogrenciler.koken.unique()\n",
    "gkoken=ogrenciler.groupby('koken')"
   ]
  },
  {
   "cell_type": "code",
   "execution_count": 75,
   "metadata": {
    "scrolled": false
   },
   "outputs": [
    {
     "name": "stdout",
     "output_type": "stream",
     "text": [
      "***Karsilastirilan Degisken: matematik_notu***\n",
      "\n",
      "group B ile group C arasindaki t-test\n"
     ]
    },
    {
     "data": {
      "text/plain": [
       "0.4647708939167453"
      ]
     },
     "metadata": {},
     "output_type": "display_data"
    },
    {
     "name": "stdout",
     "output_type": "stream",
     "text": [
      "group B ile group A arasindaki t-test\n"
     ]
    },
    {
     "data": {
      "text/plain": [
       "0.3503415961659957"
      ]
     },
     "metadata": {},
     "output_type": "display_data"
    },
    {
     "name": "stdout",
     "output_type": "stream",
     "text": [
      "group B ile group D arasindaki t-test\n"
     ]
    },
    {
     "data": {
      "text/plain": [
       "0.004886197137104194"
      ]
     },
     "metadata": {},
     "output_type": "display_data"
    },
    {
     "name": "stdout",
     "output_type": "stream",
     "text": [
      "group B ile group E arasindaki t-test\n"
     ]
    },
    {
     "data": {
      "text/plain": [
       "5.007946047497971e-09"
      ]
     },
     "metadata": {},
     "output_type": "display_data"
    },
    {
     "name": "stdout",
     "output_type": "stream",
     "text": [
      "group C ile group A arasindaki t-test\n"
     ]
    },
    {
     "data": {
      "text/plain": [
       "0.11043810745588042"
      ]
     },
     "metadata": {},
     "output_type": "display_data"
    },
    {
     "name": "stdout",
     "output_type": "stream",
     "text": [
      "group C ile group D arasindaki t-test\n"
     ]
    },
    {
     "data": {
      "text/plain": [
       "0.015888349556016285"
      ]
     },
     "metadata": {},
     "output_type": "display_data"
    },
    {
     "name": "stdout",
     "output_type": "stream",
     "text": [
      "group C ile group E arasindaki t-test\n"
     ]
    },
    {
     "data": {
      "text/plain": [
       "1.927238849552764e-09"
      ]
     },
     "metadata": {},
     "output_type": "display_data"
    },
    {
     "name": "stdout",
     "output_type": "stream",
     "text": [
      "group A ile group D arasindaki t-test\n"
     ]
    },
    {
     "data": {
      "text/plain": [
       "0.0009068636053543751"
      ]
     },
     "metadata": {},
     "output_type": "display_data"
    },
    {
     "name": "stdout",
     "output_type": "stream",
     "text": [
      "group A ile group E arasindaki t-test\n"
     ]
    },
    {
     "data": {
      "text/plain": [
       "1.083559122656415e-08"
      ]
     },
     "metadata": {},
     "output_type": "display_data"
    },
    {
     "name": "stdout",
     "output_type": "stream",
     "text": [
      "group D ile group E arasindaki t-test\n"
     ]
    },
    {
     "data": {
      "text/plain": [
       "2.3187640326715042e-05"
      ]
     },
     "metadata": {},
     "output_type": "display_data"
    },
    {
     "name": "stdout",
     "output_type": "stream",
     "text": [
      "***Karsilastirilan Degisken: okuma_notu***\n",
      "\n",
      "group B ile group C arasindaki t-test\n"
     ]
    },
    {
     "data": {
      "text/plain": [
       "0.1866592809035069"
      ]
     },
     "metadata": {},
     "output_type": "display_data"
    },
    {
     "name": "stdout",
     "output_type": "stream",
     "text": [
      "group B ile group A arasindaki t-test\n"
     ]
    },
    {
     "data": {
      "text/plain": [
       "0.1738735513443721"
      ]
     },
     "metadata": {},
     "output_type": "display_data"
    },
    {
     "name": "stdout",
     "output_type": "stream",
     "text": [
      "group B ile group D arasindaki t-test\n"
     ]
    },
    {
     "data": {
      "text/plain": [
       "0.0523786206559701"
      ]
     },
     "metadata": {},
     "output_type": "display_data"
    },
    {
     "name": "stdout",
     "output_type": "stream",
     "text": [
      "group B ile group E arasindaki t-test\n"
     ]
    },
    {
     "data": {
      "text/plain": [
       "0.0007951618495240944"
      ]
     },
     "metadata": {},
     "output_type": "display_data"
    },
    {
     "name": "stdout",
     "output_type": "stream",
     "text": [
      "group C ile group A arasindaki t-test\n"
     ]
    },
    {
     "data": {
      "text/plain": [
       "0.010364398025471079"
      ]
     },
     "metadata": {},
     "output_type": "display_data"
    },
    {
     "name": "stdout",
     "output_type": "stream",
     "text": [
      "group C ile group D arasindaki t-test\n"
     ]
    },
    {
     "data": {
      "text/plain": [
       "0.425771382113019"
      ]
     },
     "metadata": {},
     "output_type": "display_data"
    },
    {
     "name": "stdout",
     "output_type": "stream",
     "text": [
      "group C ile group E arasindaki t-test\n"
     ]
    },
    {
     "data": {
      "text/plain": [
       "0.0069132842804986595"
      ]
     },
     "metadata": {},
     "output_type": "display_data"
    },
    {
     "name": "stdout",
     "output_type": "stream",
     "text": [
      "group A ile group D arasindaki t-test\n"
     ]
    },
    {
     "data": {
      "text/plain": [
       "0.002488654464332207"
      ]
     },
     "metadata": {},
     "output_type": "display_data"
    },
    {
     "name": "stdout",
     "output_type": "stream",
     "text": [
      "group A ile group E arasindaki t-test\n"
     ]
    },
    {
     "data": {
      "text/plain": [
       "6.463395931833847e-05"
      ]
     },
     "metadata": {},
     "output_type": "display_data"
    },
    {
     "name": "stdout",
     "output_type": "stream",
     "text": [
      "group D ile group E arasindaki t-test\n"
     ]
    },
    {
     "data": {
      "text/plain": [
       "0.045033306431345586"
      ]
     },
     "metadata": {},
     "output_type": "display_data"
    },
    {
     "name": "stdout",
     "output_type": "stream",
     "text": [
      "***Karsilastirilan Degisken: yazma_notu***\n",
      "\n",
      "group B ile group C arasindaki t-test\n"
     ]
    },
    {
     "data": {
      "text/plain": [
       "0.1110010959814519"
      ]
     },
     "metadata": {},
     "output_type": "display_data"
    },
    {
     "name": "stdout",
     "output_type": "stream",
     "text": [
      "group B ile group A arasindaki t-test\n"
     ]
    },
    {
     "data": {
      "text/plain": [
       "0.14475374198993884"
      ]
     },
     "metadata": {},
     "output_type": "display_data"
    },
    {
     "name": "stdout",
     "output_type": "stream",
     "text": [
      "group B ile group D arasindaki t-test\n"
     ]
    },
    {
     "data": {
      "text/plain": [
       "0.0014749978881319053"
      ]
     },
     "metadata": {},
     "output_type": "display_data"
    },
    {
     "name": "stdout",
     "output_type": "stream",
     "text": [
      "group B ile group E arasindaki t-test\n"
     ]
    },
    {
     "data": {
      "text/plain": [
       "0.0008032300486353951"
      ]
     },
     "metadata": {},
     "output_type": "display_data"
    },
    {
     "name": "stdout",
     "output_type": "stream",
     "text": [
      "group C ile group A arasindaki t-test\n"
     ]
    },
    {
     "data": {
      "text/plain": [
       "0.004610690740740428"
      ]
     },
     "metadata": {},
     "output_type": "display_data"
    },
    {
     "name": "stdout",
     "output_type": "stream",
     "text": [
      "group C ile group D arasindaki t-test\n"
     ]
    },
    {
     "data": {
      "text/plain": [
       "0.05930232918708209"
      ]
     },
     "metadata": {},
     "output_type": "display_data"
    },
    {
     "name": "stdout",
     "output_type": "stream",
     "text": [
      "group C ile group E arasindaki t-test\n"
     ]
    },
    {
     "data": {
      "text/plain": [
       "0.019183539018898285"
      ]
     },
     "metadata": {},
     "output_type": "display_data"
    },
    {
     "name": "stdout",
     "output_type": "stream",
     "text": [
      "group A ile group D arasindaki t-test\n"
     ]
    },
    {
     "data": {
      "text/plain": [
       "4.084805733969806e-05"
      ]
     },
     "metadata": {},
     "output_type": "display_data"
    },
    {
     "name": "stdout",
     "output_type": "stream",
     "text": [
      "group A ile group E arasindaki t-test\n"
     ]
    },
    {
     "data": {
      "text/plain": [
       "3.483278064499439e-05"
      ]
     },
     "metadata": {},
     "output_type": "display_data"
    },
    {
     "name": "stdout",
     "output_type": "stream",
     "text": [
      "group D ile group E arasindaki t-test\n"
     ]
    },
    {
     "data": {
      "text/plain": [
       "0.4104455517392258"
      ]
     },
     "metadata": {},
     "output_type": "display_data"
    }
   ],
   "source": [
    "for var in ['matematik_notu','okuma_notu','yazma_notu']:\n",
    "    print('***Karsilastirilan Degisken: {}***\\n'.format(var))\n",
    "    for i in range(0,len(kokenler)):\n",
    "        for j in range(i+1, len(kokenler)):\n",
    "            print('{0} ile {1} arasindaki t-test'.format(kokenler[i],kokenler[j]))\n",
    "            display(ttest_ind(ogrenciler[ogrenciler.koken==kokenler[i]][var],ogrenciler[ogrenciler.koken==kokenler[j]][var])[1])"
   ]
  },
  {
   "cell_type": "markdown",
   "metadata": {},
   "source": [
    "Grup A,B,C nin farkli kombinasyonlari disinda anlamli bir fark vardir."
   ]
  },
  {
   "cell_type": "code",
   "execution_count": 43,
   "metadata": {},
   "outputs": [
    {
     "data": {
      "text/html": [
       "<div>\n",
       "<style scoped>\n",
       "    .dataframe tbody tr th:only-of-type {\n",
       "        vertical-align: middle;\n",
       "    }\n",
       "\n",
       "    .dataframe tbody tr th {\n",
       "        vertical-align: top;\n",
       "    }\n",
       "\n",
       "    .dataframe thead th {\n",
       "        text-align: right;\n",
       "    }\n",
       "</style>\n",
       "<table border=\"1\" class=\"dataframe\">\n",
       "  <thead>\n",
       "    <tr style=\"text-align: right;\">\n",
       "      <th></th>\n",
       "      <th>matematik_notu</th>\n",
       "      <th>okuma_notu</th>\n",
       "      <th>yazma_notu</th>\n",
       "    </tr>\n",
       "    <tr>\n",
       "      <th>aile_egt_seviyesi</th>\n",
       "      <th></th>\n",
       "      <th></th>\n",
       "      <th></th>\n",
       "    </tr>\n",
       "  </thead>\n",
       "  <tbody>\n",
       "    <tr>\n",
       "      <th>associate's degree</th>\n",
       "      <td>67.883</td>\n",
       "      <td>70.928</td>\n",
       "      <td>69.896</td>\n",
       "    </tr>\n",
       "    <tr>\n",
       "      <th>bachelor's degree</th>\n",
       "      <td>69.390</td>\n",
       "      <td>73.000</td>\n",
       "      <td>73.381</td>\n",
       "    </tr>\n",
       "    <tr>\n",
       "      <th>high school</th>\n",
       "      <td>62.138</td>\n",
       "      <td>64.704</td>\n",
       "      <td>62.449</td>\n",
       "    </tr>\n",
       "    <tr>\n",
       "      <th>master's degree</th>\n",
       "      <td>69.746</td>\n",
       "      <td>75.373</td>\n",
       "      <td>75.678</td>\n",
       "    </tr>\n",
       "    <tr>\n",
       "      <th>some college</th>\n",
       "      <td>67.128</td>\n",
       "      <td>69.460</td>\n",
       "      <td>68.841</td>\n",
       "    </tr>\n",
       "    <tr>\n",
       "      <th>some high school</th>\n",
       "      <td>63.497</td>\n",
       "      <td>66.939</td>\n",
       "      <td>64.888</td>\n",
       "    </tr>\n",
       "  </tbody>\n",
       "</table>\n",
       "</div>"
      ],
      "text/plain": [
       "                    matematik_notu  okuma_notu  yazma_notu\n",
       "aile_egt_seviyesi                                         \n",
       "associate's degree          67.883      70.928      69.896\n",
       "bachelor's degree           69.390      73.000      73.381\n",
       "high school                 62.138      64.704      62.449\n",
       "master's degree             69.746      75.373      75.678\n",
       "some college                67.128      69.460      68.841\n",
       "some high school            63.497      66.939      64.888"
      ]
     },
     "execution_count": 43,
     "metadata": {},
     "output_type": "execute_result"
    }
   ],
   "source": [
    "ogrenciler.groupby('aile_egt_seviyesi').mean()"
   ]
  },
  {
   "cell_type": "code",
   "execution_count": 38,
   "metadata": {},
   "outputs": [],
   "source": [
    "seviyeler=ogrenciler.aile_egt_seviyesi.unique()"
   ]
  },
  {
   "cell_type": "code",
   "execution_count": 60,
   "metadata": {},
   "outputs": [
    {
     "name": "stdout",
     "output_type": "stream",
     "text": [
      "***Karsilastirilan Degisken :matematik_notu\n",
      "\n",
      "bachelor's degree ile some college arasindaki t-test\n"
     ]
    },
    {
     "data": {
      "text/plain": [
       "Ttest_indResult(statistic=1.3702352829617477, pvalue=0.17151224218471559)"
      ]
     },
     "metadata": {},
     "output_type": "display_data"
    },
    {
     "name": "stdout",
     "output_type": "stream",
     "text": [
      "bachelor's degree ile master's degree arasindaki t-test\n"
     ]
    },
    {
     "data": {
      "text/plain": [
       "Ttest_indResult(statistic=-0.14868196568849312, pvalue=0.8819757824867702)"
      ]
     },
     "metadata": {},
     "output_type": "display_data"
    },
    {
     "name": "stdout",
     "output_type": "stream",
     "text": [
      "bachelor's degree ile associate's degree arasindaki t-test\n"
     ]
    },
    {
     "data": {
      "text/plain": [
       "Ttest_indResult(statistic=0.8786641889793243, pvalue=0.38020757818036177)"
      ]
     },
     "metadata": {},
     "output_type": "display_data"
    },
    {
     "name": "stdout",
     "output_type": "stream",
     "text": [
      "bachelor's degree ile high school arasindaki t-test\n"
     ]
    },
    {
     "data": {
      "text/plain": [
       "Ttest_indResult(statistic=4.236143622484822, pvalue=2.9965345853843376e-05)"
      ]
     },
     "metadata": {},
     "output_type": "display_data"
    },
    {
     "name": "stdout",
     "output_type": "stream",
     "text": [
      "bachelor's degree ile some high school arasindaki t-test\n"
     ]
    },
    {
     "data": {
      "text/plain": [
       "Ttest_indResult(statistic=3.196718602676573, pvalue=0.0015409192922812146)"
      ]
     },
     "metadata": {},
     "output_type": "display_data"
    },
    {
     "name": "stdout",
     "output_type": "stream",
     "text": [
      "some college ile master's degree arasindaki t-test\n"
     ]
    },
    {
     "data": {
      "text/plain": [
       "Ttest_indResult(statistic=-1.2356334215824571, pvalue=0.21761956810347416)"
      ]
     },
     "metadata": {},
     "output_type": "display_data"
    },
    {
     "name": "stdout",
     "output_type": "stream",
     "text": [
      "some college ile associate's degree arasindaki t-test\n"
     ]
    },
    {
     "data": {
      "text/plain": [
       "Ttest_indResult(statistic=-0.5426842696247527, pvalue=0.5876182809234072)"
      ]
     },
     "metadata": {},
     "output_type": "display_data"
    },
    {
     "name": "stdout",
     "output_type": "stream",
     "text": [
      "some college ile high school arasindaki t-test\n"
     ]
    },
    {
     "data": {
      "text/plain": [
       "Ttest_indResult(statistic=3.5461079495681163, pvalue=0.00043498004192453146)"
      ]
     },
     "metadata": {},
     "output_type": "display_data"
    },
    {
     "name": "stdout",
     "output_type": "stream",
     "text": [
      "some college ile some high school arasindaki t-test\n"
     ]
    },
    {
     "data": {
      "text/plain": [
       "Ttest_indResult(statistic=2.4117046231407633, pvalue=0.016324361572645503)"
      ]
     },
     "metadata": {},
     "output_type": "display_data"
    },
    {
     "name": "stdout",
     "output_type": "stream",
     "text": [
      "master's degree ile associate's degree arasindaki t-test\n"
     ]
    },
    {
     "data": {
      "text/plain": [
       "Ttest_indResult(statistic=0.8411229688563471, pvalue=0.4009993636124658)"
      ]
     },
     "metadata": {},
     "output_type": "display_data"
    },
    {
     "name": "stdout",
     "output_type": "stream",
     "text": [
      "master's degree ile high school arasindaki t-test\n"
     ]
    },
    {
     "data": {
      "text/plain": [
       "Ttest_indResult(statistic=3.4893759321890823, pvalue=0.000570929230228812)"
      ]
     },
     "metadata": {},
     "output_type": "display_data"
    },
    {
     "name": "stdout",
     "output_type": "stream",
     "text": [
      "master's degree ile some high school arasindaki t-test\n"
     ]
    },
    {
     "data": {
      "text/plain": [
       "Ttest_indResult(statistic=2.6442572081925526, pvalue=0.008736228790471057)"
      ]
     },
     "metadata": {},
     "output_type": "display_data"
    },
    {
     "name": "stdout",
     "output_type": "stream",
     "text": [
      "associate's degree ile high school arasindaki t-test\n"
     ]
    },
    {
     "data": {
      "text/plain": [
       "Ttest_indResult(statistic=3.9481325318265013, pvalue=9.247314274963044e-05)"
      ]
     },
     "metadata": {},
     "output_type": "display_data"
    },
    {
     "name": "stdout",
     "output_type": "stream",
     "text": [
      "associate's degree ile some high school arasindaki t-test\n"
     ]
    },
    {
     "data": {
      "text/plain": [
       "Ttest_indResult(statistic=2.820053979930256, pvalue=0.005041081492906143)"
      ]
     },
     "metadata": {},
     "output_type": "display_data"
    },
    {
     "name": "stdout",
     "output_type": "stream",
     "text": [
      "high school ile some high school arasindaki t-test\n"
     ]
    },
    {
     "data": {
      "text/plain": [
       "Ttest_indResult(statistic=-0.8640629490772553, pvalue=0.388108610360687)"
      ]
     },
     "metadata": {},
     "output_type": "display_data"
    },
    {
     "name": "stdout",
     "output_type": "stream",
     "text": [
      "***Karsilastirilan Degisken :okuma_notu\n",
      "\n",
      "bachelor's degree ile some college arasindaki t-test\n"
     ]
    },
    {
     "data": {
      "text/plain": [
       "Ttest_indResult(statistic=2.2048821209085077, pvalue=0.028127555314401052)"
      ]
     },
     "metadata": {},
     "output_type": "display_data"
    },
    {
     "name": "stdout",
     "output_type": "stream",
     "text": [
      "bachelor's degree ile master's degree arasindaki t-test\n"
     ]
    },
    {
     "data": {
      "text/plain": [
       "Ttest_indResult(statistic=-1.0540858949475984, pvalue=0.293296751317879)"
      ]
     },
     "metadata": {},
     "output_type": "display_data"
    },
    {
     "name": "stdout",
     "output_type": "stream",
     "text": [
      "bachelor's degree ile associate's degree arasindaki t-test\n"
     ]
    },
    {
     "data": {
      "text/plain": [
       "Ttest_indResult(statistic=1.2977969850452833, pvalue=0.19524206483091092)"
      ]
     },
     "metadata": {},
     "output_type": "display_data"
    },
    {
     "name": "stdout",
     "output_type": "stream",
     "text": [
      "bachelor's degree ile high school arasindaki t-test\n"
     ]
    },
    {
     "data": {
      "text/plain": [
       "Ttest_indResult(statistic=5.017577900835298, pvalue=8.804250310784477e-07)"
      ]
     },
     "metadata": {},
     "output_type": "display_data"
    },
    {
     "name": "stdout",
     "output_type": "stream",
     "text": [
      "bachelor's degree ile some high school arasindaki t-test\n"
     ]
    },
    {
     "data": {
      "text/plain": [
       "Ttest_indResult(statistic=3.4039270673798745, pvalue=0.0007561971719730451)"
      ]
     },
     "metadata": {},
     "output_type": "display_data"
    },
    {
     "name": "stdout",
     "output_type": "stream",
     "text": [
      "some college ile master's degree arasindaki t-test\n"
     ]
    },
    {
     "data": {
      "text/plain": [
       "Ttest_indResult(statistic=-2.888843374950649, pvalue=0.004165440800640354)"
      ]
     },
     "metadata": {},
     "output_type": "display_data"
    },
    {
     "name": "stdout",
     "output_type": "stream",
     "text": [
      "some college ile associate's degree arasindaki t-test\n"
     ]
    },
    {
     "data": {
      "text/plain": [
       "Ttest_indResult(statistic=-1.11231882169149, pvalue=0.26660028539980146)"
      ]
     },
     "metadata": {},
     "output_type": "display_data"
    },
    {
     "name": "stdout",
     "output_type": "stream",
     "text": [
      "some college ile high school arasindaki t-test\n"
     ]
    },
    {
     "data": {
      "text/plain": [
       "Ttest_indResult(statistic=3.4578427683620334, pvalue=0.0006001048481252139)"
      ]
     },
     "metadata": {},
     "output_type": "display_data"
    },
    {
     "name": "stdout",
     "output_type": "stream",
     "text": [
      "some college ile some high school arasindaki t-test\n"
     ]
    },
    {
     "data": {
      "text/plain": [
       "Ttest_indResult(statistic=1.714161972758909, pvalue=0.08726786856243877)"
      ]
     },
     "metadata": {},
     "output_type": "display_data"
    },
    {
     "name": "stdout",
     "output_type": "stream",
     "text": [
      "master's degree ile associate's degree arasindaki t-test\n"
     ]
    },
    {
     "data": {
      "text/plain": [
       "Ttest_indResult(statistic=2.1912015759838686, pvalue=0.02926414570972208)"
      ]
     },
     "metadata": {},
     "output_type": "display_data"
    },
    {
     "name": "stdout",
     "output_type": "stream",
     "text": [
      "master's degree ile high school arasindaki t-test\n"
     ]
    },
    {
     "data": {
      "text/plain": [
       "Ttest_indResult(statistic=5.113158728723479, pvalue=6.257558119816816e-07)"
      ]
     },
     "metadata": {},
     "output_type": "display_data"
    },
    {
     "name": "stdout",
     "output_type": "stream",
     "text": [
      "master's degree ile some high school arasindaki t-test\n"
     ]
    },
    {
     "data": {
      "text/plain": [
       "Ttest_indResult(statistic=3.7261574122231513, pvalue=0.00024334552617191513)"
      ]
     },
     "metadata": {},
     "output_type": "display_data"
    },
    {
     "name": "stdout",
     "output_type": "stream",
     "text": [
      "associate's degree ile high school arasindaki t-test\n"
     ]
    },
    {
     "data": {
      "text/plain": [
       "Ttest_indResult(statistic=4.538021419898998, pvalue=7.4421677971357816e-06)"
      ]
     },
     "metadata": {},
     "output_type": "display_data"
    },
    {
     "name": "stdout",
     "output_type": "stream",
     "text": [
      "associate's degree ile some high school arasindaki t-test\n"
     ]
    },
    {
     "data": {
      "text/plain": [
       "Ttest_indResult(statistic=2.7183602204037927, pvalue=0.006846770119677965)"
      ]
     },
     "metadata": {},
     "output_type": "display_data"
    },
    {
     "name": "stdout",
     "output_type": "stream",
     "text": [
      "high school ile some high school arasindaki t-test\n"
     ]
    },
    {
     "data": {
      "text/plain": [
       "Ttest_indResult(statistic=-1.4612847575915553, pvalue=0.14477919552482746)"
      ]
     },
     "metadata": {},
     "output_type": "display_data"
    },
    {
     "name": "stdout",
     "output_type": "stream",
     "text": [
      "***Karsilastirilan Degisken :yazma_notu\n",
      "\n",
      "bachelor's degree ile some college arasindaki t-test\n"
     ]
    },
    {
     "data": {
      "text/plain": [
       "Ttest_indResult(statistic=2.6803314684632196, pvalue=0.00771101202367254)"
      ]
     },
     "metadata": {},
     "output_type": "display_data"
    },
    {
     "name": "stdout",
     "output_type": "stream",
     "text": [
      "bachelor's degree ile master's degree arasindaki t-test\n"
     ]
    },
    {
     "data": {
      "text/plain": [
       "Ttest_indResult(statistic=-0.9998741306804844, pvalue=0.3187519641464658)"
      ]
     },
     "metadata": {},
     "output_type": "display_data"
    },
    {
     "name": "stdout",
     "output_type": "stream",
     "text": [
      "bachelor's degree ile associate's degree arasindaki t-test\n"
     ]
    },
    {
     "data": {
      "text/plain": [
       "Ttest_indResult(statistic=2.1159296639133762, pvalue=0.03508162451719667)"
      ]
     },
     "metadata": {},
     "output_type": "display_data"
    },
    {
     "name": "stdout",
     "output_type": "stream",
     "text": [
      "bachelor's degree ile high school arasindaki t-test\n"
     ]
    },
    {
     "data": {
      "text/plain": [
       "Ttest_indResult(statistic=6.547380937127048, pvalue=2.4076253789515874e-10)"
      ]
     },
     "metadata": {},
     "output_type": "display_data"
    },
    {
     "name": "stdout",
     "output_type": "stream",
     "text": [
      "bachelor's degree ile some high school arasindaki t-test\n"
     ]
    },
    {
     "data": {
      "text/plain": [
       "Ttest_indResult(statistic=4.667733097498242, pvalue=4.628198526834338e-06)"
      ]
     },
     "metadata": {},
     "output_type": "display_data"
    },
    {
     "name": "stdout",
     "output_type": "stream",
     "text": [
      "some college ile master's degree arasindaki t-test\n"
     ]
    },
    {
     "data": {
      "text/plain": [
       "Ttest_indResult(statistic=-3.1687690632394907, pvalue=0.0016985933135959495)"
      ]
     },
     "metadata": {},
     "output_type": "display_data"
    },
    {
     "name": "stdout",
     "output_type": "stream",
     "text": [
      "some college ile associate's degree arasindaki t-test\n"
     ]
    },
    {
     "data": {
      "text/plain": [
       "Ttest_indResult(statistic=-0.7615968643953912, pvalue=0.44670316603036575)"
      ]
     },
     "metadata": {},
     "output_type": "display_data"
    },
    {
     "name": "stdout",
     "output_type": "stream",
     "text": [
      "some college ile high school arasindaki t-test\n"
     ]
    },
    {
     "data": {
      "text/plain": [
       "Ttest_indResult(statistic=4.488520877492127, pvalue=9.275017802620877e-06)"
      ]
     },
     "metadata": {},
     "output_type": "display_data"
    },
    {
     "name": "stdout",
     "output_type": "stream",
     "text": [
      "some college ile some high school arasindaki t-test\n"
     ]
    },
    {
     "data": {
      "text/plain": [
       "Ttest_indResult(statistic=2.5757211403792417, pvalue=0.010358529086081357)"
      ]
     },
     "metadata": {},
     "output_type": "display_data"
    },
    {
     "name": "stdout",
     "output_type": "stream",
     "text": [
      "master's degree ile associate's degree arasindaki t-test\n"
     ]
    },
    {
     "data": {
      "text/plain": [
       "Ttest_indResult(statistic=2.78124154906855, pvalue=0.00578403270525775)"
      ]
     },
     "metadata": {},
     "output_type": "display_data"
    },
    {
     "name": "stdout",
     "output_type": "stream",
     "text": [
      "master's degree ile high school arasindaki t-test\n"
     ]
    },
    {
     "data": {
      "text/plain": [
       "Ttest_indResult(statistic=6.360904883721531, pvalue=9.326930296880332e-10)"
      ]
     },
     "metadata": {},
     "output_type": "display_data"
    },
    {
     "name": "stdout",
     "output_type": "stream",
     "text": [
      "master's degree ile some high school arasindaki t-test\n"
     ]
    },
    {
     "data": {
      "text/plain": [
       "Ttest_indResult(statistic=4.707583817143559, pvalue=4.275465153074631e-06)"
      ]
     },
     "metadata": {},
     "output_type": "display_data"
    },
    {
     "name": "stdout",
     "output_type": "stream",
     "text": [
      "associate's degree ile high school arasindaki t-test\n"
     ]
    },
    {
     "data": {
      "text/plain": [
       "Ttest_indResult(statistic=5.348725635626432, pvalue=1.4650545536741998e-07)"
      ]
     },
     "metadata": {},
     "output_type": "display_data"
    },
    {
     "name": "stdout",
     "output_type": "stream",
     "text": [
      "associate's degree ile some high school arasindaki t-test\n"
     ]
    },
    {
     "data": {
      "text/plain": [
       "Ttest_indResult(statistic=3.3317223453475715, pvalue=0.0009435990258795855)"
      ]
     },
     "metadata": {},
     "output_type": "display_data"
    },
    {
     "name": "stdout",
     "output_type": "stream",
     "text": [
      "high school ile some high school arasindaki t-test\n"
     ]
    },
    {
     "data": {
      "text/plain": [
       "Ttest_indResult(statistic=-1.5838885273076473, pvalue=0.11406653932963291)"
      ]
     },
     "metadata": {},
     "output_type": "display_data"
    }
   ],
   "source": [
    "for var in ['matematik_notu','okuma_notu','yazma_notu']:\n",
    "    print('***Karsilastirilan Degisken :{}\\n'.format(var))\n",
    "    for i in range(0,len(seviyeler)):\n",
    "        for j in range(i+1,len(seviyeler)):\n",
    "            print('{0} ile {1} arasindaki t-test'.format(seviyeler[i],seviyeler[j]))\n",
    "            display(ttest_ind(ogrenciler[ogrenciler.aile_egt_seviyesi==seviyeler[i]][var],\n",
    "                              ogrenciler[ogrenciler.aile_egt_seviyesi==seviyeler[j]][var]))\n"
   ]
  },
  {
   "cell_type": "code",
   "execution_count": 73,
   "metadata": {},
   "outputs": [
    {
     "data": {
      "text/html": [
       "<div>\n",
       "<style scoped>\n",
       "    .dataframe tbody tr th:only-of-type {\n",
       "        vertical-align: middle;\n",
       "    }\n",
       "\n",
       "    .dataframe tbody tr th {\n",
       "        vertical-align: top;\n",
       "    }\n",
       "\n",
       "    .dataframe thead th {\n",
       "        text-align: right;\n",
       "    }\n",
       "</style>\n",
       "<table border=\"1\" class=\"dataframe\">\n",
       "  <thead>\n",
       "    <tr style=\"text-align: right;\">\n",
       "      <th></th>\n",
       "      <th>matematik_notu</th>\n",
       "      <th>okuma_notu</th>\n",
       "      <th>yazma_notu</th>\n",
       "    </tr>\n",
       "    <tr>\n",
       "      <th>ogle_yemegi</th>\n",
       "      <th></th>\n",
       "      <th></th>\n",
       "      <th></th>\n",
       "    </tr>\n",
       "  </thead>\n",
       "  <tbody>\n",
       "    <tr>\n",
       "      <th>free/reduced</th>\n",
       "      <td>58.921</td>\n",
       "      <td>64.654</td>\n",
       "      <td>63.023</td>\n",
       "    </tr>\n",
       "    <tr>\n",
       "      <th>standard</th>\n",
       "      <td>70.034</td>\n",
       "      <td>71.654</td>\n",
       "      <td>70.823</td>\n",
       "    </tr>\n",
       "  </tbody>\n",
       "</table>\n",
       "</div>"
      ],
      "text/plain": [
       "              matematik_notu  okuma_notu  yazma_notu\n",
       "ogle_yemegi                                         \n",
       "free/reduced          58.921      64.654      63.023\n",
       "standard              70.034      71.654      70.823"
      ]
     },
     "execution_count": 73,
     "metadata": {},
     "output_type": "execute_result"
    }
   ],
   "source": [
    "ogrenciler.groupby('ogle_yemegi').mean()"
   ]
  },
  {
   "cell_type": "code",
   "execution_count": 52,
   "metadata": {},
   "outputs": [],
   "source": [
    "ytipi=ogrenciler.ogle_yemegi.unique()"
   ]
  },
  {
   "cell_type": "code",
   "execution_count": 74,
   "metadata": {
    "scrolled": false
   },
   "outputs": [
    {
     "name": "stdout",
     "output_type": "stream",
     "text": [
      "\n",
      "Karsilastirdigimiz Degisken: matematik_notu\n",
      "\n",
      "standard ile free/reduced arasindaki t-test\n",
      "Ttest_indResult(statistic=11.837180472914612, pvalue=2.4131955993137074e-30)\n",
      "\n",
      "Karsilastirdigimiz Degisken: okuma_notu\n",
      "\n",
      "standard ile free/reduced arasindaki t-test\n",
      "Ttest_indResult(statistic=7.451056467473455, pvalue=2.0027966545279011e-13)\n",
      "\n",
      "Karsilastirdigimiz Degisken: yazma_notu\n",
      "\n",
      "standard ile free/reduced arasindaki t-test\n",
      "Ttest_indResult(statistic=8.009784197834758, pvalue=3.1861895831664765e-15)\n"
     ]
    }
   ],
   "source": [
    "for tp in ['matematik_notu','okuma_notu','yazma_notu']:\n",
    "    print('\\nKarsilastirdigimiz Degisken: {}\\n'.format(tp))\n",
    "    for i in range(0,len(ytipi)):\n",
    "        for j in range(i+1,len(ytipi)):\n",
    "            print('{0} ile {1} arasindaki t-test'.format(ytipi[i],ytipi[j]))\n",
    "            print(ttest_ind(ogrenciler[ogrenciler.ogle_yemegi==ytipi[i]][tp],\n",
    "                            ogrenciler[ogrenciler.ogle_yemegi==ytipi[j]][tp]))"
   ]
  },
  {
   "cell_type": "markdown",
   "metadata": {},
   "source": [
    "Standart yemek yiyenler daha basarilidir."
   ]
  },
  {
   "cell_type": "code",
   "execution_count": 66,
   "metadata": {},
   "outputs": [],
   "source": [
    "hkrs=ogrenciler.hazirlik_kursu.unique()"
   ]
  },
  {
   "cell_type": "code",
   "execution_count": 68,
   "metadata": {},
   "outputs": [
    {
     "name": "stdout",
     "output_type": "stream",
     "text": [
      "\n",
      "Karsilastirdigimiz Degisken: matematik_notu\n",
      "\n",
      "none ile completed arasindaki t-test\n",
      "Ttest_indResult(statistic=-5.704616417349102, pvalue=1.5359134607147415e-08)\n",
      "\n",
      "Karsilastirdigimiz Degisken: okuma_notu\n",
      "\n",
      "none ile completed arasindaki t-test\n",
      "Ttest_indResult(statistic=-7.871663538941468, pvalue=9.081783336892205e-15)\n",
      "\n",
      "Karsilastirdigimiz Degisken: yazma_notu\n",
      "\n",
      "none ile completed arasindaki t-test\n",
      "Ttest_indResult(statistic=-10.409173436808748, pvalue=3.68529173524572e-24)\n"
     ]
    }
   ],
   "source": [
    "for tp in ['matematik_notu','okuma_notu','yazma_notu']:\n",
    "    print('\\nKarsilastirdigimiz Degisken: {}\\n'.format(tp))\n",
    "    for i in range(0,len(hkrs)):\n",
    "        for j in range(i+1,len(hkrs)):\n",
    "            print('{0} ile {1} arasindaki t-test'.format(hkrs[i],hkrs[j]))\n",
    "            print(ttest_ind(ogrenciler[ogrenciler.hazirlik_kursu==hkrs[i]][tp],\n",
    "                            ogrenciler[ogrenciler.hazirlik_kursu==hkrs[j]][tp]))"
   ]
  },
  {
   "cell_type": "markdown",
   "metadata": {},
   "source": [
    "Tamamlanan hazirlik kurslarina gidenler daha basarilidir.Aralarindaki fark istatistiksel olarak anlamlidir."
   ]
  },
  {
   "cell_type": "code",
   "execution_count": 72,
   "metadata": {},
   "outputs": [
    {
     "data": {
      "image/png": "[encoded data removed]",
      "text/plain": [
       "<Figure size 1000x500 with 2 Axes>"
      ]
     },
     "metadata": {},
     "output_type": "display_data"
    }
   ],
   "source": [
    "plt.figure(figsize=(10,5))\n",
    "sns.heatmap(ogrenciler.corr(),square=True,annot=True,linewidths=.5,vmin=0,vmax=1,cmap='viridis')\n",
    "plt.title('Korelasyon Matrisi(OgrencilerPerformans)',fontdict=baslik_font)\n",
    "plt.show()\n"
   ]
  },
  {
   "cell_type": "markdown",
   "metadata": {},
   "source": [
    "Birbiri ile korelasyonu en fazla olan dersler okuma ve yazma dersidir."
   ]
  }
 ],
 "metadata": {
  "kernelspec": {
   "display_name": "Python 3",
   "language": "python",
   "name": "python3"
  },
  "language_info": {
   "codemirror_mode": {
    "name": "ipython",
    "version": 3
   },
   "file_extension": ".py",
   "mimetype": "text/x-python",
   "name": "python",
   "nbconvert_exporter": "python",
   "pygments_lexer": "ipython3",
   "version": "3.7.3"
  }
 },
 "nbformat": 4,
 "nbformat_minor": 2
}
