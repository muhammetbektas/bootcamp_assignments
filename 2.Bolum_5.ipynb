{
 "cells": [
  {
   "cell_type": "markdown",
   "metadata": {},
   "source": [
    "### Cevap 1"
   ]
  },
  {
   "cell_type": "code",
   "execution_count": 1,
   "metadata": {},
   "outputs": [
    {
     "name": "stdout",
     "output_type": "stream",
     "text": [
      "Tohum saç, bitmezse toprak utansın!\n",
      "Hedefe varmayan mızrak utansın!\n",
      "\n",
      "Hey gidi Küheylan, koşmana bak sen!\n",
      "Çatlarsan, doğuran kısrak utansın!\n",
      "\n",
      "Eski çınar şimdi Noel ağacı;\n",
      "Dallarda iğreti yaprak utansın!\n",
      "\n",
      "Ustada kalırsa bu öksüz yapı,\n",
      "Onu sürdürmeyen çırak utansın!\n",
      "\n",
      "Ölümden ilerde varış dediğin,\n",
      "Geride ne varsa bırak utansın!\n",
      "\n",
      "Ey binbir tanede solmayan tek renk;\n",
      "Bayraklaşamıyorsan bayrak utansın!\n"
     ]
    }
   ],
   "source": [
    "with open(\"../utansın.txt\", \"r\", encoding='utf8') as f:\n",
    "    line=f.read() \n",
    "\n",
    "print(line)"
   ]
  },
  {
   "cell_type": "code",
   "execution_count": 2,
   "metadata": {},
   "outputs": [
    {
     "name": "stdout",
     "output_type": "stream",
     "text": [
      "12\n"
     ]
    }
   ],
   "source": [
    "#Şiirin kaç dizeden oluştuğunun hesaplanması\n",
    "with open (\"../utansın.txt\",\"r\",encoding=\"utf8\") as f:\n",
    "    dizeler=f.readlines()\n",
    "    count=0\n",
    "    for dize in dizeler:\n",
    "        if not(dize=='\\n' or dize==\"\" or dize==\" \"):#Bazen dizeler arası satır atlanabiliyor. Boş satırları da saydırmamak için\n",
    "            count+=1\n",
    "    print(count)"
   ]
  },
  {
   "cell_type": "code",
   "execution_count": 4,
   "metadata": {},
   "outputs": [
    {
     "name": "stdout",
     "output_type": "stream",
     "text": [
      "Tohum\n",
      "Hedefe\n",
      "Hey\n",
      "Çatlarsan,\n",
      "Eski\n",
      "Dallarda\n",
      "Ustada\n",
      "Onu\n",
      "Ölümden\n",
      "Geride\n",
      "Ey\n",
      "Bayraklaşamıyorsan\n"
     ]
    }
   ],
   "source": [
    "# Başka bir dosyaya her dizenin ilk kelimesini yazdırılması.\n",
    "ilkler=[]\n",
    "for dize in dizeler:\n",
    "    if not(dize=='\\n' or dize==\"\" or dize==\" \"):\n",
    "        ilkler.append(dize.split()[0])\n",
    "        print(dize.split()[0])"
   ]
  },
  {
   "cell_type": "code",
   "execution_count": 9,
   "metadata": {},
   "outputs": [
    {
     "name": "stdout",
     "output_type": "stream",
     "text": [
      "Tohum\n",
      "Hedefe\n",
      "Hey\n",
      "Çatlarsan,\n",
      "Eski\n",
      "Dallarda\n",
      "Ustada\n",
      "Onu\n",
      "Ölümden\n",
      "Geride\n",
      "Ey\n",
      "Bayraklaşamıyorsan\n",
      "\n",
      "Yeni dosya: Tohum  Hedefe  Hey  Çatlarsan,  Eski  Dallarda  Ustada  Onu  Ölümden  Geride  Ey  Bayraklaşamıyorsan  \n"
     ]
    }
   ],
   "source": [
    "# Başka bir dosyaya her dizenin ilk kelimesini yazdırılması.\n",
    "ilkler=[]\n",
    "for dize in dizeler:\n",
    "    if not(dize=='\\n' or dize==\"\" or dize==\" \"):\n",
    "        ilkler.append(dize.split()[0])\n",
    "        print(dize.split()[0])\n",
    "\n",
    "#İlk kelimelerin olduğu ilkler dizisini oluşturdum.\n",
    "with open(\"ilk_kelimeler.txt\",\"w\") as f:\n",
    "    \n",
    "    for i in range(len(ilkler)):\n",
    "        \n",
    "        f.write(ilkler[i])\n",
    "        f.write(\"  \")\n",
    "\n",
    "with open(\"ilk_kelimeler.txt\",\"r\") as f:\n",
    "    line=f.read()\n",
    "print('\\nYeni dosya:',line)"
   ]
  },
  {
   "cell_type": "markdown",
   "metadata": {},
   "source": [
    "### Cevap 2"
   ]
  },
  {
   "cell_type": "code",
   "execution_count": 6,
   "metadata": {},
   "outputs": [
    {
     "name": "stdout",
     "output_type": "stream",
     "text": [
      "41 bir asal sayıdır.\n"
     ]
    }
   ],
   "source": [
    "def asal(x):\n",
    "    asl = False\n",
    "    for j in range(2, x):\n",
    "        if (x % j) == 0:\n",
    "            asl=True\n",
    "    if asl==True:\n",
    "        print(\"{} bir asal sayı değildir.\".format(x))\n",
    "    else:\n",
    "        print(\"{} bir asal sayıdır.\".format(x))\n",
    "    return None\n",
    "asal(41)"
   ]
  },
  {
   "cell_type": "markdown",
   "metadata": {},
   "source": [
    "### Cevap 3"
   ]
  },
  {
   "cell_type": "code",
   "execution_count": 7,
   "metadata": {},
   "outputs": [
    {
     "name": "stdout",
     "output_type": "stream",
     "text": [
      "[1, 2, 3, 4]\n"
     ]
    }
   ],
   "source": [
    "def unique(list1):\n",
    "    uniquelist=[]\n",
    "    for x in list1:\n",
    "        if x not in uniquelist:\n",
    "            uniquelist.append(x)\n",
    "    print(uniquelist)\n",
    "    return\n",
    "unique([1,2,2,3,3,4,4])"
   ]
  },
  {
   "cell_type": "markdown",
   "metadata": {},
   "source": [
    "### Cevap 4"
   ]
  },
  {
   "cell_type": "code",
   "execution_count": 8,
   "metadata": {},
   "outputs": [
    {
     "name": "stdout",
     "output_type": "stream",
     "text": [
      "Doğduğunuz yılı girin: 1994\n",
      "Doğduğunuz ayı girin: 4\n",
      "Doğduğunuz gunu girin: 2\n",
      "Siz, 26 yıl 0 ay 2 gün yaşındasınız.\n"
     ]
    }
   ],
   "source": [
    "import datetime as dt\n",
    "\n",
    "bugun=dt.date.today()\n",
    "d_tarih=dt.date(int(input(\"Doğduğunuz yılı girin: \")), \n",
    "                int(input(\"Doğduğunuz ayı girin: \")), \n",
    "                int(input(\"Doğduğunuz gunu girin: \")))\n",
    "\n",
    "yil=bugun.year-d_tarih.year\n",
    "ay=bugun.month-d_tarih.month\n",
    "gun=bugun.day-d_tarih.day\n",
    "\n",
    "if gun<0:\n",
    "    gun+=30\n",
    "    ay-=1\n",
    "    \n",
    "if ay<0:\n",
    "    ay+=12\n",
    "    yil-=1\n",
    "\n",
    "if yil<0:\n",
    "    print(\"Yanlış tarih girdiniz.\")\n",
    "else:\n",
    "    print(\"Siz, {} yıl {} ay {} gün yaşındasınız.\".format(yil, ay, gun))"
   ]
  }
 ],
 "metadata": {
  "kernelspec": {
   "display_name": "Python 3",
   "language": "python",
   "name": "python3"
  },
  "language_info": {
   "codemirror_mode": {
    "name": "ipython",
    "version": 3
   },
   "file_extension": ".py",
   "mimetype": "text/x-python",
   "name": "python",
   "nbconvert_exporter": "python",
   "pygments_lexer": "ipython3",
   "version": "3.7.4"
  }
 },
 "nbformat": 4,
 "nbformat_minor": 2
}
