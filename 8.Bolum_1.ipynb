{
 "cells": [
  {
   "cell_type": "markdown",
   "metadata": {},
   "source": [
    "### K-Nearest Neighbors Algorithm with Regression"
   ]
  },
  {
   "cell_type": "code",
   "execution_count": 1,
   "metadata": {},
   "outputs": [],
   "source": [
    "import pandas as pd\n",
    "import numpy as np\n",
    "import matplotlib.pyplot as plt\n",
    "%matplotlib inline\n",
    "import warnings\n",
    "warnings.filterwarnings(\"ignore\")\n",
    "from scipy.stats.mstats import winsorize"
   ]
  },
  {
   "cell_type": "code",
   "execution_count": 2,
   "metadata": {
    "scrolled": true
   },
   "outputs": [
    {
     "data": {
      "text/html": [
       "<div>\n",
       "<style scoped>\n",
       "    .dataframe tbody tr th:only-of-type {\n",
       "        vertical-align: middle;\n",
       "    }\n",
       "\n",
       "    .dataframe tbody tr th {\n",
       "        vertical-align: top;\n",
       "    }\n",
       "\n",
       "    .dataframe thead th {\n",
       "        text-align: right;\n",
       "    }\n",
       "</style>\n",
       "<table border=\"1\" class=\"dataframe\">\n",
       "  <thead>\n",
       "    <tr style=\"text-align: right;\">\n",
       "      <th></th>\n",
       "      <th>date</th>\n",
       "      <th>Appliances</th>\n",
       "      <th>lights</th>\n",
       "      <th>T1</th>\n",
       "      <th>RH_1</th>\n",
       "      <th>T2</th>\n",
       "      <th>RH_2</th>\n",
       "      <th>T3</th>\n",
       "      <th>RH_3</th>\n",
       "      <th>T4</th>\n",
       "      <th>...</th>\n",
       "      <th>T9</th>\n",
       "      <th>RH_9</th>\n",
       "      <th>T_out</th>\n",
       "      <th>Press_mm_hg</th>\n",
       "      <th>RH_out</th>\n",
       "      <th>Windspeed</th>\n",
       "      <th>Visibility</th>\n",
       "      <th>Tdewpoint</th>\n",
       "      <th>rv1</th>\n",
       "      <th>rv2</th>\n",
       "    </tr>\n",
       "  </thead>\n",
       "  <tbody>\n",
       "    <tr>\n",
       "      <td>0</td>\n",
       "      <td>2016-01-11 17:00:00</td>\n",
       "      <td>60</td>\n",
       "      <td>30</td>\n",
       "      <td>19.89</td>\n",
       "      <td>47.596667</td>\n",
       "      <td>19.2</td>\n",
       "      <td>44.790000</td>\n",
       "      <td>19.79</td>\n",
       "      <td>44.730000</td>\n",
       "      <td>19.000000</td>\n",
       "      <td>...</td>\n",
       "      <td>17.033333</td>\n",
       "      <td>45.53</td>\n",
       "      <td>6.600000</td>\n",
       "      <td>733.5</td>\n",
       "      <td>92.0</td>\n",
       "      <td>7.000000</td>\n",
       "      <td>63.000000</td>\n",
       "      <td>5.3</td>\n",
       "      <td>13.275433</td>\n",
       "      <td>13.275433</td>\n",
       "    </tr>\n",
       "    <tr>\n",
       "      <td>1</td>\n",
       "      <td>2016-01-11 17:10:00</td>\n",
       "      <td>60</td>\n",
       "      <td>30</td>\n",
       "      <td>19.89</td>\n",
       "      <td>46.693333</td>\n",
       "      <td>19.2</td>\n",
       "      <td>44.722500</td>\n",
       "      <td>19.79</td>\n",
       "      <td>44.790000</td>\n",
       "      <td>19.000000</td>\n",
       "      <td>...</td>\n",
       "      <td>17.066667</td>\n",
       "      <td>45.56</td>\n",
       "      <td>6.483333</td>\n",
       "      <td>733.6</td>\n",
       "      <td>92.0</td>\n",
       "      <td>6.666667</td>\n",
       "      <td>59.166667</td>\n",
       "      <td>5.2</td>\n",
       "      <td>18.606195</td>\n",
       "      <td>18.606195</td>\n",
       "    </tr>\n",
       "    <tr>\n",
       "      <td>2</td>\n",
       "      <td>2016-01-11 17:20:00</td>\n",
       "      <td>50</td>\n",
       "      <td>30</td>\n",
       "      <td>19.89</td>\n",
       "      <td>46.300000</td>\n",
       "      <td>19.2</td>\n",
       "      <td>44.626667</td>\n",
       "      <td>19.79</td>\n",
       "      <td>44.933333</td>\n",
       "      <td>18.926667</td>\n",
       "      <td>...</td>\n",
       "      <td>17.000000</td>\n",
       "      <td>45.50</td>\n",
       "      <td>6.366667</td>\n",
       "      <td>733.7</td>\n",
       "      <td>92.0</td>\n",
       "      <td>6.333333</td>\n",
       "      <td>55.333333</td>\n",
       "      <td>5.1</td>\n",
       "      <td>28.642668</td>\n",
       "      <td>28.642668</td>\n",
       "    </tr>\n",
       "  </tbody>\n",
       "</table>\n",
       "<p>3 rows × 29 columns</p>\n",
       "</div>"
      ],
      "text/plain": [
       "                  date  Appliances  lights     T1       RH_1    T2       RH_2  \\\n",
       "0  2016-01-11 17:00:00          60      30  19.89  47.596667  19.2  44.790000   \n",
       "1  2016-01-11 17:10:00          60      30  19.89  46.693333  19.2  44.722500   \n",
       "2  2016-01-11 17:20:00          50      30  19.89  46.300000  19.2  44.626667   \n",
       "\n",
       "      T3       RH_3         T4  ...         T9   RH_9     T_out  Press_mm_hg  \\\n",
       "0  19.79  44.730000  19.000000  ...  17.033333  45.53  6.600000        733.5   \n",
       "1  19.79  44.790000  19.000000  ...  17.066667  45.56  6.483333        733.6   \n",
       "2  19.79  44.933333  18.926667  ...  17.000000  45.50  6.366667        733.7   \n",
       "\n",
       "   RH_out  Windspeed  Visibility  Tdewpoint        rv1        rv2  \n",
       "0    92.0   7.000000   63.000000        5.3  13.275433  13.275433  \n",
       "1    92.0   6.666667   59.166667        5.2  18.606195  18.606195  \n",
       "2    92.0   6.333333   55.333333        5.1  28.642668  28.642668  \n",
       "\n",
       "[3 rows x 29 columns]"
      ]
     },
     "execution_count": 2,
     "metadata": {},
     "output_type": "execute_result"
    }
   ],
   "source": [
    "df=pd.read_csv('../appliances-energy.csv')\n",
    "df.head(3)"
   ]
  },
  {
   "cell_type": "code",
   "execution_count": 3,
   "metadata": {},
   "outputs": [],
   "source": [
    "#Due to lot of zero enteries, this column is of not much use and will be ignored in rest of the model.\n",
    "df.drop(columns='lights',axis=1,inplace=True)"
   ]
  },
  {
   "cell_type": "code",
   "execution_count": 4,
   "metadata": {},
   "outputs": [],
   "source": [
    "df['date'] = pd.to_datetime(df['date'])\n",
    "df= df.set_index('date')\n",
    "df.index.name ='time'\n",
    "df['date'] = df.index.date\n",
    "df['day'] = df.index.day\n",
    "df['month'] = df.index.month\n",
    "df['hour'] = df.index.hour"
   ]
  },
  {
   "cell_type": "code",
   "execution_count": 5,
   "metadata": {
    "scrolled": true
   },
   "outputs": [
    {
     "data": {
      "text/html": [
       "<div>\n",
       "<style scoped>\n",
       "    .dataframe tbody tr th:only-of-type {\n",
       "        vertical-align: middle;\n",
       "    }\n",
       "\n",
       "    .dataframe tbody tr th {\n",
       "        vertical-align: top;\n",
       "    }\n",
       "\n",
       "    .dataframe thead th {\n",
       "        text-align: right;\n",
       "    }\n",
       "</style>\n",
       "<table border=\"1\" class=\"dataframe\">\n",
       "  <thead>\n",
       "    <tr style=\"text-align: right;\">\n",
       "      <th></th>\n",
       "      <th></th>\n",
       "      <th></th>\n",
       "      <th>Appliances</th>\n",
       "      <th>T1</th>\n",
       "      <th>RH_1</th>\n",
       "      <th>T2</th>\n",
       "      <th>RH_2</th>\n",
       "      <th>T3</th>\n",
       "      <th>RH_3</th>\n",
       "      <th>T4</th>\n",
       "      <th>RH_4</th>\n",
       "      <th>T5</th>\n",
       "      <th>...</th>\n",
       "      <th>T9</th>\n",
       "      <th>RH_9</th>\n",
       "      <th>T_out</th>\n",
       "      <th>Press_mm_hg</th>\n",
       "      <th>RH_out</th>\n",
       "      <th>Windspeed</th>\n",
       "      <th>Visibility</th>\n",
       "      <th>Tdewpoint</th>\n",
       "      <th>rv1</th>\n",
       "      <th>rv2</th>\n",
       "    </tr>\n",
       "    <tr>\n",
       "      <th>month</th>\n",
       "      <th>day</th>\n",
       "      <th>hour</th>\n",
       "      <th></th>\n",
       "      <th></th>\n",
       "      <th></th>\n",
       "      <th></th>\n",
       "      <th></th>\n",
       "      <th></th>\n",
       "      <th></th>\n",
       "      <th></th>\n",
       "      <th></th>\n",
       "      <th></th>\n",
       "      <th></th>\n",
       "      <th></th>\n",
       "      <th></th>\n",
       "      <th></th>\n",
       "      <th></th>\n",
       "      <th></th>\n",
       "      <th></th>\n",
       "      <th></th>\n",
       "      <th></th>\n",
       "      <th></th>\n",
       "      <th></th>\n",
       "    </tr>\n",
       "  </thead>\n",
       "  <tbody>\n",
       "    <tr>\n",
       "      <td rowspan=\"5\" valign=\"top\">1</td>\n",
       "      <td rowspan=\"5\" valign=\"top\">11</td>\n",
       "      <td>17</td>\n",
       "      <td>330</td>\n",
       "      <td>19.890000</td>\n",
       "      <td>46.502778</td>\n",
       "      <td>19.200000</td>\n",
       "      <td>44.626528</td>\n",
       "      <td>19.790000</td>\n",
       "      <td>44.897778</td>\n",
       "      <td>18.932778</td>\n",
       "      <td>45.738750</td>\n",
       "      <td>17.166667</td>\n",
       "      <td>...</td>\n",
       "      <td>17.016667</td>\n",
       "      <td>45.446667</td>\n",
       "      <td>6.308333</td>\n",
       "      <td>733.750000</td>\n",
       "      <td>92.000000</td>\n",
       "      <td>6.166667</td>\n",
       "      <td>53.416667</td>\n",
       "      <td>5.050000</td>\n",
       "      <td>26.823044</td>\n",
       "      <td>26.823044</td>\n",
       "    </tr>\n",
       "    <tr>\n",
       "      <td>18</td>\n",
       "      <td>1060</td>\n",
       "      <td>19.897778</td>\n",
       "      <td>45.879028</td>\n",
       "      <td>19.268889</td>\n",
       "      <td>44.438889</td>\n",
       "      <td>19.770000</td>\n",
       "      <td>44.863333</td>\n",
       "      <td>18.908333</td>\n",
       "      <td>46.066667</td>\n",
       "      <td>17.111111</td>\n",
       "      <td>...</td>\n",
       "      <td>16.981667</td>\n",
       "      <td>45.290000</td>\n",
       "      <td>5.941667</td>\n",
       "      <td>734.266667</td>\n",
       "      <td>91.583333</td>\n",
       "      <td>5.416667</td>\n",
       "      <td>40.000000</td>\n",
       "      <td>4.658333</td>\n",
       "      <td>22.324206</td>\n",
       "      <td>22.324206</td>\n",
       "    </tr>\n",
       "    <tr>\n",
       "      <td>19</td>\n",
       "      <td>1040</td>\n",
       "      <td>20.495556</td>\n",
       "      <td>52.805556</td>\n",
       "      <td>19.925556</td>\n",
       "      <td>46.061667</td>\n",
       "      <td>20.052222</td>\n",
       "      <td>47.227361</td>\n",
       "      <td>18.969444</td>\n",
       "      <td>47.815556</td>\n",
       "      <td>17.136111</td>\n",
       "      <td>...</td>\n",
       "      <td>16.902222</td>\n",
       "      <td>45.311389</td>\n",
       "      <td>6.000000</td>\n",
       "      <td>734.791667</td>\n",
       "      <td>89.750000</td>\n",
       "      <td>6.000000</td>\n",
       "      <td>40.000000</td>\n",
       "      <td>4.391667</td>\n",
       "      <td>33.734932</td>\n",
       "      <td>33.734932</td>\n",
       "    </tr>\n",
       "    <tr>\n",
       "      <td>20</td>\n",
       "      <td>750</td>\n",
       "      <td>20.961111</td>\n",
       "      <td>48.453333</td>\n",
       "      <td>20.251111</td>\n",
       "      <td>45.632639</td>\n",
       "      <td>20.213889</td>\n",
       "      <td>47.268889</td>\n",
       "      <td>19.190833</td>\n",
       "      <td>49.227917</td>\n",
       "      <td>17.615556</td>\n",
       "      <td>...</td>\n",
       "      <td>16.890000</td>\n",
       "      <td>45.118889</td>\n",
       "      <td>6.000000</td>\n",
       "      <td>735.283333</td>\n",
       "      <td>87.583333</td>\n",
       "      <td>6.000000</td>\n",
       "      <td>40.000000</td>\n",
       "      <td>4.016667</td>\n",
       "      <td>25.679642</td>\n",
       "      <td>25.679642</td>\n",
       "    </tr>\n",
       "    <tr>\n",
       "      <td>21</td>\n",
       "      <td>620</td>\n",
       "      <td>21.311667</td>\n",
       "      <td>45.768333</td>\n",
       "      <td>20.587778</td>\n",
       "      <td>44.961111</td>\n",
       "      <td>20.373333</td>\n",
       "      <td>46.164444</td>\n",
       "      <td>19.425556</td>\n",
       "      <td>47.918889</td>\n",
       "      <td>18.427222</td>\n",
       "      <td>...</td>\n",
       "      <td>16.890000</td>\n",
       "      <td>44.807778</td>\n",
       "      <td>5.833333</td>\n",
       "      <td>735.566667</td>\n",
       "      <td>87.416667</td>\n",
       "      <td>6.000000</td>\n",
       "      <td>40.000000</td>\n",
       "      <td>3.816667</td>\n",
       "      <td>18.826274</td>\n",
       "      <td>18.826274</td>\n",
       "    </tr>\n",
       "  </tbody>\n",
       "</table>\n",
       "<p>5 rows × 27 columns</p>\n",
       "</div>"
      ],
      "text/plain": [
       "                Appliances         T1       RH_1         T2       RH_2  \\\n",
       "month day hour                                                           \n",
       "1     11  17           330  19.890000  46.502778  19.200000  44.626528   \n",
       "          18          1060  19.897778  45.879028  19.268889  44.438889   \n",
       "          19          1040  20.495556  52.805556  19.925556  46.061667   \n",
       "          20           750  20.961111  48.453333  20.251111  45.632639   \n",
       "          21           620  21.311667  45.768333  20.587778  44.961111   \n",
       "\n",
       "                       T3       RH_3         T4       RH_4         T5  ...  \\\n",
       "month day hour                                                         ...   \n",
       "1     11  17    19.790000  44.897778  18.932778  45.738750  17.166667  ...   \n",
       "          18    19.770000  44.863333  18.908333  46.066667  17.111111  ...   \n",
       "          19    20.052222  47.227361  18.969444  47.815556  17.136111  ...   \n",
       "          20    20.213889  47.268889  19.190833  49.227917  17.615556  ...   \n",
       "          21    20.373333  46.164444  19.425556  47.918889  18.427222  ...   \n",
       "\n",
       "                       T9       RH_9     T_out  Press_mm_hg     RH_out  \\\n",
       "month day hour                                                           \n",
       "1     11  17    17.016667  45.446667  6.308333   733.750000  92.000000   \n",
       "          18    16.981667  45.290000  5.941667   734.266667  91.583333   \n",
       "          19    16.902222  45.311389  6.000000   734.791667  89.750000   \n",
       "          20    16.890000  45.118889  6.000000   735.283333  87.583333   \n",
       "          21    16.890000  44.807778  5.833333   735.566667  87.416667   \n",
       "\n",
       "                Windspeed  Visibility  Tdewpoint        rv1        rv2  \n",
       "month day hour                                                          \n",
       "1     11  17     6.166667   53.416667   5.050000  26.823044  26.823044  \n",
       "          18     5.416667   40.000000   4.658333  22.324206  22.324206  \n",
       "          19     6.000000   40.000000   4.391667  33.734932  33.734932  \n",
       "          20     6.000000   40.000000   4.016667  25.679642  25.679642  \n",
       "          21     6.000000   40.000000   3.816667  18.826274  18.826274  \n",
       "\n",
       "[5 rows x 27 columns]"
      ]
     },
     "execution_count": 5,
     "metadata": {},
     "output_type": "execute_result"
    }
   ],
   "source": [
    "df2=pd.concat([df.groupby(['month','day','hour']).Appliances.sum(),\n",
    "           df.groupby(['month','day','hour']).mean().drop('Appliances',axis=1)],axis=1)\n",
    "df2.head()"
   ]
  },
  {
   "cell_type": "code",
   "execution_count": 6,
   "metadata": {},
   "outputs": [],
   "source": [
    "def f(x):\n",
    "    x = x +273.15\n",
    "    return x"
   ]
  },
  {
   "cell_type": "code",
   "execution_count": 7,
   "metadata": {
    "scrolled": true
   },
   "outputs": [
    {
     "data": {
      "text/html": [
       "<div>\n",
       "<style scoped>\n",
       "    .dataframe tbody tr th:only-of-type {\n",
       "        vertical-align: middle;\n",
       "    }\n",
       "\n",
       "    .dataframe tbody tr th {\n",
       "        vertical-align: top;\n",
       "    }\n",
       "\n",
       "    .dataframe thead th {\n",
       "        text-align: right;\n",
       "    }\n",
       "</style>\n",
       "<table border=\"1\" class=\"dataframe\">\n",
       "  <thead>\n",
       "    <tr style=\"text-align: right;\">\n",
       "      <th></th>\n",
       "      <th></th>\n",
       "      <th></th>\n",
       "      <th>Appliances</th>\n",
       "      <th>T1</th>\n",
       "      <th>RH_1</th>\n",
       "      <th>T2</th>\n",
       "      <th>RH_2</th>\n",
       "      <th>T3</th>\n",
       "      <th>RH_3</th>\n",
       "      <th>T4</th>\n",
       "      <th>RH_4</th>\n",
       "      <th>T5</th>\n",
       "      <th>...</th>\n",
       "      <th>T9</th>\n",
       "      <th>RH_9</th>\n",
       "      <th>T_out</th>\n",
       "      <th>Press_mm_hg</th>\n",
       "      <th>RH_out</th>\n",
       "      <th>Windspeed</th>\n",
       "      <th>Visibility</th>\n",
       "      <th>Tdewpoint</th>\n",
       "      <th>rv1</th>\n",
       "      <th>rv2</th>\n",
       "    </tr>\n",
       "    <tr>\n",
       "      <th>month</th>\n",
       "      <th>day</th>\n",
       "      <th>hour</th>\n",
       "      <th></th>\n",
       "      <th></th>\n",
       "      <th></th>\n",
       "      <th></th>\n",
       "      <th></th>\n",
       "      <th></th>\n",
       "      <th></th>\n",
       "      <th></th>\n",
       "      <th></th>\n",
       "      <th></th>\n",
       "      <th></th>\n",
       "      <th></th>\n",
       "      <th></th>\n",
       "      <th></th>\n",
       "      <th></th>\n",
       "      <th></th>\n",
       "      <th></th>\n",
       "      <th></th>\n",
       "      <th></th>\n",
       "      <th></th>\n",
       "      <th></th>\n",
       "    </tr>\n",
       "  </thead>\n",
       "  <tbody>\n",
       "    <tr>\n",
       "      <td rowspan=\"5\" valign=\"top\">1</td>\n",
       "      <td rowspan=\"5\" valign=\"top\">11</td>\n",
       "      <td>17</td>\n",
       "      <td>330</td>\n",
       "      <td>293.040000</td>\n",
       "      <td>46.502778</td>\n",
       "      <td>292.350000</td>\n",
       "      <td>44.626528</td>\n",
       "      <td>292.940000</td>\n",
       "      <td>44.897778</td>\n",
       "      <td>292.082778</td>\n",
       "      <td>45.738750</td>\n",
       "      <td>290.316667</td>\n",
       "      <td>...</td>\n",
       "      <td>290.166667</td>\n",
       "      <td>45.446667</td>\n",
       "      <td>279.458333</td>\n",
       "      <td>733.750000</td>\n",
       "      <td>92.000000</td>\n",
       "      <td>6.166667</td>\n",
       "      <td>53.416667</td>\n",
       "      <td>278.200000</td>\n",
       "      <td>26.823044</td>\n",
       "      <td>26.823044</td>\n",
       "    </tr>\n",
       "    <tr>\n",
       "      <td>18</td>\n",
       "      <td>1060</td>\n",
       "      <td>293.047778</td>\n",
       "      <td>45.879028</td>\n",
       "      <td>292.418889</td>\n",
       "      <td>44.438889</td>\n",
       "      <td>292.920000</td>\n",
       "      <td>44.863333</td>\n",
       "      <td>292.058333</td>\n",
       "      <td>46.066667</td>\n",
       "      <td>290.261111</td>\n",
       "      <td>...</td>\n",
       "      <td>290.131667</td>\n",
       "      <td>45.290000</td>\n",
       "      <td>279.091667</td>\n",
       "      <td>734.266667</td>\n",
       "      <td>91.583333</td>\n",
       "      <td>5.416667</td>\n",
       "      <td>40.000000</td>\n",
       "      <td>277.808333</td>\n",
       "      <td>22.324206</td>\n",
       "      <td>22.324206</td>\n",
       "    </tr>\n",
       "    <tr>\n",
       "      <td>19</td>\n",
       "      <td>1040</td>\n",
       "      <td>293.645556</td>\n",
       "      <td>52.805556</td>\n",
       "      <td>293.075556</td>\n",
       "      <td>46.061667</td>\n",
       "      <td>293.202222</td>\n",
       "      <td>47.227361</td>\n",
       "      <td>292.119444</td>\n",
       "      <td>47.815556</td>\n",
       "      <td>290.286111</td>\n",
       "      <td>...</td>\n",
       "      <td>290.052222</td>\n",
       "      <td>45.311389</td>\n",
       "      <td>279.150000</td>\n",
       "      <td>734.791667</td>\n",
       "      <td>89.750000</td>\n",
       "      <td>6.000000</td>\n",
       "      <td>40.000000</td>\n",
       "      <td>277.541667</td>\n",
       "      <td>33.734932</td>\n",
       "      <td>33.734932</td>\n",
       "    </tr>\n",
       "    <tr>\n",
       "      <td>20</td>\n",
       "      <td>750</td>\n",
       "      <td>294.111111</td>\n",
       "      <td>48.453333</td>\n",
       "      <td>293.401111</td>\n",
       "      <td>45.632639</td>\n",
       "      <td>293.363889</td>\n",
       "      <td>47.268889</td>\n",
       "      <td>292.340833</td>\n",
       "      <td>49.227917</td>\n",
       "      <td>290.765556</td>\n",
       "      <td>...</td>\n",
       "      <td>290.040000</td>\n",
       "      <td>45.118889</td>\n",
       "      <td>279.150000</td>\n",
       "      <td>735.283333</td>\n",
       "      <td>87.583333</td>\n",
       "      <td>6.000000</td>\n",
       "      <td>40.000000</td>\n",
       "      <td>277.166667</td>\n",
       "      <td>25.679642</td>\n",
       "      <td>25.679642</td>\n",
       "    </tr>\n",
       "    <tr>\n",
       "      <td>21</td>\n",
       "      <td>620</td>\n",
       "      <td>294.461667</td>\n",
       "      <td>45.768333</td>\n",
       "      <td>293.737778</td>\n",
       "      <td>44.961111</td>\n",
       "      <td>293.523333</td>\n",
       "      <td>46.164444</td>\n",
       "      <td>292.575556</td>\n",
       "      <td>47.918889</td>\n",
       "      <td>291.577222</td>\n",
       "      <td>...</td>\n",
       "      <td>290.040000</td>\n",
       "      <td>44.807778</td>\n",
       "      <td>278.983333</td>\n",
       "      <td>735.566667</td>\n",
       "      <td>87.416667</td>\n",
       "      <td>6.000000</td>\n",
       "      <td>40.000000</td>\n",
       "      <td>276.966667</td>\n",
       "      <td>18.826274</td>\n",
       "      <td>18.826274</td>\n",
       "    </tr>\n",
       "  </tbody>\n",
       "</table>\n",
       "<p>5 rows × 27 columns</p>\n",
       "</div>"
      ],
      "text/plain": [
       "                Appliances          T1       RH_1          T2       RH_2  \\\n",
       "month day hour                                                             \n",
       "1     11  17           330  293.040000  46.502778  292.350000  44.626528   \n",
       "          18          1060  293.047778  45.879028  292.418889  44.438889   \n",
       "          19          1040  293.645556  52.805556  293.075556  46.061667   \n",
       "          20           750  294.111111  48.453333  293.401111  45.632639   \n",
       "          21           620  294.461667  45.768333  293.737778  44.961111   \n",
       "\n",
       "                        T3       RH_3          T4       RH_4          T5  ...  \\\n",
       "month day hour                                                            ...   \n",
       "1     11  17    292.940000  44.897778  292.082778  45.738750  290.316667  ...   \n",
       "          18    292.920000  44.863333  292.058333  46.066667  290.261111  ...   \n",
       "          19    293.202222  47.227361  292.119444  47.815556  290.286111  ...   \n",
       "          20    293.363889  47.268889  292.340833  49.227917  290.765556  ...   \n",
       "          21    293.523333  46.164444  292.575556  47.918889  291.577222  ...   \n",
       "\n",
       "                        T9       RH_9       T_out  Press_mm_hg     RH_out  \\\n",
       "month day hour                                                              \n",
       "1     11  17    290.166667  45.446667  279.458333   733.750000  92.000000   \n",
       "          18    290.131667  45.290000  279.091667   734.266667  91.583333   \n",
       "          19    290.052222  45.311389  279.150000   734.791667  89.750000   \n",
       "          20    290.040000  45.118889  279.150000   735.283333  87.583333   \n",
       "          21    290.040000  44.807778  278.983333   735.566667  87.416667   \n",
       "\n",
       "                Windspeed  Visibility   Tdewpoint        rv1        rv2  \n",
       "month day hour                                                           \n",
       "1     11  17     6.166667   53.416667  278.200000  26.823044  26.823044  \n",
       "          18     5.416667   40.000000  277.808333  22.324206  22.324206  \n",
       "          19     6.000000   40.000000  277.541667  33.734932  33.734932  \n",
       "          20     6.000000   40.000000  277.166667  25.679642  25.679642  \n",
       "          21     6.000000   40.000000  276.966667  18.826274  18.826274  \n",
       "\n",
       "[5 rows x 27 columns]"
      ]
     },
     "execution_count": 7,
     "metadata": {},
     "output_type": "execute_result"
    }
   ],
   "source": [
    "dfk=df2.copy()\n",
    "temp_list=['T1','T2','T3','T4','T6','T5','T7','T8','T9','T_out','Tdewpoint']\n",
    "for i in temp_list:\n",
    "    dfk[i] = dfk[i].apply(f)\n",
    "dfk.head()"
   ]
  },
  {
   "cell_type": "code",
   "execution_count": 8,
   "metadata": {},
   "outputs": [],
   "source": [
    "dfkw=pd.DataFrame()\n",
    "others=['RH_4','RH_6','T7']\n",
    "for i in others:\n",
    "    dfkw['w_%s'%i]=dfk[i]"
   ]
  },
  {
   "cell_type": "code",
   "execution_count": 9,
   "metadata": {},
   "outputs": [],
   "source": [
    "#One by one, we kept winsorization low ratio because it might cause some side effects if we increase that ratio too much.\n",
    "dfkw['w_Appliances']=winsorize(dfk.Appliances,(0,0.105))\n",
    "dfkw['w_T1']=winsorize(dfk.T1,(0.05,0.05))\n",
    "dfkw['w_RH_1']=winsorize(dfk.RH_1,(0.01,0.01))\n",
    "dfkw['w_T2']=winsorize(dfk.T2,(0,0.04))\n",
    "dfkw['w_RH_2']=winsorize(dfk.RH_2,(0.01,0.01))\n",
    "dfkw['w_T3']=winsorize(dfk.T3,(0,0.02))\n",
    "dfkw['w_T4']=winsorize(dfk.T4,(0.01,0.01))\n",
    "dfkw['w_T5']=winsorize(dfk.T5,(0,0.01))\n",
    "dfkw['w_RH_5']=winsorize(dfk.RH_5,(0.001,0.07))\n",
    "dfkw['w_T6']=winsorize(dfk.T6,(0,0.05))\n",
    "dfkw['w_RH_7']=winsorize(dfk.RH_7,(0,0.04))\n",
    "dfkw['w_T_out']=winsorize(dfk.T_out,(0,0.04))\n",
    "dfkw['w_Press_mm_hg']=winsorize(dfk.Press_mm_hg,(0.012,0))\n",
    "dfkw['w_RH_out']=winsorize(dfk.RH_out,(0.02,0))\n",
    "dfkw['w_Windspeed']=winsorize(dfk.Windspeed,(0,0.02))\n",
    "dfkw['w_Visibility']=winsorize(dfk.Visibility,(0.05,0.125))\n",
    "dfkw['w_RH_3']=winsorize(dfk.RH_3,(0,0.001))\n",
    "dfkw['w_T8']=winsorize(dfk.T8,(0.05,0))\n",
    "dfkw['w_RH_8']=winsorize(dfk.RH_8,(0,0.01))\n",
    "dfkw['w_T9']=winsorize(dfk.T9,(0,0.001))\n",
    "dfkw['w_RH_9']=winsorize(dfk.RH_9,(0.001,0.001))\n",
    "dfkw['w_Tdewpoint']=winsorize(dfk.Tdewpoint,(0,0.001))\n",
    "dfkw['w_rv1']=winsorize(dfk.rv1,(0.005,0.005))\n",
    "dfkw['w_rv2']=winsorize(dfk.rv2,(0.005,0.005))"
   ]
  },
  {
   "cell_type": "code",
   "execution_count": 10,
   "metadata": {},
   "outputs": [],
   "source": [
    "df3=dfkw.copy()\n",
    "dflog=pd.DataFrame()\n",
    "for col in df3.columns:\n",
    "    dflog['log_%s'%col]=np.log(df3[col])"
   ]
  },
  {
   "cell_type": "code",
   "execution_count": 11,
   "metadata": {},
   "outputs": [],
   "source": [
    "from sklearn.preprocessing import MinMaxScaler\n",
    "scaler = MinMaxScaler(feature_range=(0,1))\n",
    "scaler.fit(dflog)\n",
    "min_max=scaler.transform(dflog)\n",
    "scale_df=pd.DataFrame(min_max)\n",
    "scale_df=scale_df.rename({0:'Appliances'},axis=1)"
   ]
  },
  {
   "cell_type": "code",
   "execution_count": 12,
   "metadata": {},
   "outputs": [],
   "source": [
    "#Train-test split\n",
    "from sklearn.model_selection import train_test_split\n",
    "X = scale_df.drop('Appliances',axis=1)\n",
    "y = scale_df.Appliances\n",
    "X_train, X_test, y_train, y_test = train_test_split(X, y, test_size=0.2, random_state = 40)"
   ]
  },
  {
   "cell_type": "code",
   "execution_count": 13,
   "metadata": {},
   "outputs": [
    {
     "data": {
      "text/plain": [
       "KNeighborsRegressor(algorithm='auto', leaf_size=30, metric='minkowski',\n",
       "                    metric_params=None, n_jobs=None, n_neighbors=3, p=2,\n",
       "                    weights='distance')"
      ]
     },
     "execution_count": 13,
     "metadata": {},
     "output_type": "execute_result"
    }
   ],
   "source": [
    "#Lets build model\n",
    "from sklearn.neighbors import KNeighborsRegressor\n",
    "Knn = KNeighborsRegressor(n_neighbors=3,weights='distance')\n",
    "Knn.fit(X_train,y_train)"
   ]
  },
  {
   "cell_type": "code",
   "execution_count": 14,
   "metadata": {
    "scrolled": false
   },
   "outputs": [
    {
     "data": {
      "text/plain": [
       "0.9595896321703982"
      ]
     },
     "execution_count": 14,
     "metadata": {},
     "output_type": "execute_result"
    }
   ],
   "source": [
    "# This score of KNN is better than Logistic Regression Model\n",
    "Knn.score(X_test, y_test)"
   ]
  },
  {
   "cell_type": "code",
   "execution_count": 15,
   "metadata": {},
   "outputs": [],
   "source": [
    "#Finding optimal k value\n",
    "k_values=np.arange(1,10)\n",
    "train_set_scores=np.empty(len(k_values))\n",
    "test_set_scores=np.empty(len(k_values))"
   ]
  },
  {
   "cell_type": "code",
   "execution_count": 16,
   "metadata": {},
   "outputs": [],
   "source": [
    "for i,k in enumerate(k_values):\n",
    "    Knn=KNeighborsRegressor(n_neighbors=k)\n",
    "    Knn.fit(X_train,y_train)\n",
    "    train_set_scores[i]=Knn.score(X_train,y_train)\n",
    "    test_set_scores[i]=Knn.score(X_test,y_test)"
   ]
  },
  {
   "cell_type": "code",
   "execution_count": 17,
   "metadata": {
    "scrolled": true
   },
   "outputs": [
    {
     "data": {
      "image/png": "[encoded data removed]",
      "text/plain": [
       "<Figure size 700x300 with 1 Axes>"
      ]
     },
     "metadata": {
      "needs_background": "light"
     },
     "output_type": "display_data"
    }
   ],
   "source": [
    "plt.figure(figsize=(7,3), dpi = 100)\n",
    "plt.plot(k_values, test_set_scores, label = 'Test Set')\n",
    "plt.plot(k_values, train_set_scores, label = 'Train Set')\n",
    "plt.legend()\n",
    "plt.title('Model Score of K-NN according to k-values')\n",
    "plt.xlabel('K-values')\n",
    "plt.ylabel('Accuracy')\n",
    "plt.show()"
   ]
  },
  {
   "cell_type": "code",
   "execution_count": 18,
   "metadata": {},
   "outputs": [],
   "source": [
    "# Opltimal value of k is 3 neighbors."
   ]
  },
  {
   "cell_type": "markdown",
   "metadata": {},
   "source": [
    "### K-Nearest Neighbors Algorithm with Classification"
   ]
  },
  {
   "cell_type": "code",
   "execution_count": 19,
   "metadata": {
    "scrolled": false
   },
   "outputs": [
    {
     "data": {
      "text/html": [
       "<div>\n",
       "<style scoped>\n",
       "    .dataframe tbody tr th:only-of-type {\n",
       "        vertical-align: middle;\n",
       "    }\n",
       "\n",
       "    .dataframe tbody tr th {\n",
       "        vertical-align: top;\n",
       "    }\n",
       "\n",
       "    .dataframe thead th {\n",
       "        text-align: right;\n",
       "    }\n",
       "</style>\n",
       "<table border=\"1\" class=\"dataframe\">\n",
       "  <thead>\n",
       "    <tr style=\"text-align: right;\">\n",
       "      <th></th>\n",
       "      <th>customerID</th>\n",
       "      <th>gender</th>\n",
       "      <th>SeniorCitizen</th>\n",
       "      <th>Partner</th>\n",
       "      <th>Dependents</th>\n",
       "      <th>tenure</th>\n",
       "      <th>PhoneService</th>\n",
       "      <th>MultipleLines</th>\n",
       "      <th>InternetService</th>\n",
       "      <th>OnlineSecurity</th>\n",
       "      <th>...</th>\n",
       "      <th>DeviceProtection</th>\n",
       "      <th>TechSupport</th>\n",
       "      <th>StreamingTV</th>\n",
       "      <th>StreamingMovies</th>\n",
       "      <th>Contract</th>\n",
       "      <th>PaperlessBilling</th>\n",
       "      <th>PaymentMethod</th>\n",
       "      <th>MonthlyCharges</th>\n",
       "      <th>TotalCharges</th>\n",
       "      <th>Churn</th>\n",
       "    </tr>\n",
       "  </thead>\n",
       "  <tbody>\n",
       "    <tr>\n",
       "      <td>0</td>\n",
       "      <td>7590-VHVEG</td>\n",
       "      <td>Female</td>\n",
       "      <td>0</td>\n",
       "      <td>Yes</td>\n",
       "      <td>No</td>\n",
       "      <td>1</td>\n",
       "      <td>No</td>\n",
       "      <td>No phone service</td>\n",
       "      <td>DSL</td>\n",
       "      <td>No</td>\n",
       "      <td>...</td>\n",
       "      <td>No</td>\n",
       "      <td>No</td>\n",
       "      <td>No</td>\n",
       "      <td>No</td>\n",
       "      <td>Month-to-month</td>\n",
       "      <td>Yes</td>\n",
       "      <td>Electronic check</td>\n",
       "      <td>29.85</td>\n",
       "      <td>29.85</td>\n",
       "      <td>No</td>\n",
       "    </tr>\n",
       "    <tr>\n",
       "      <td>1</td>\n",
       "      <td>5575-GNVDE</td>\n",
       "      <td>Male</td>\n",
       "      <td>0</td>\n",
       "      <td>No</td>\n",
       "      <td>No</td>\n",
       "      <td>34</td>\n",
       "      <td>Yes</td>\n",
       "      <td>No</td>\n",
       "      <td>DSL</td>\n",
       "      <td>Yes</td>\n",
       "      <td>...</td>\n",
       "      <td>Yes</td>\n",
       "      <td>No</td>\n",
       "      <td>No</td>\n",
       "      <td>No</td>\n",
       "      <td>One year</td>\n",
       "      <td>No</td>\n",
       "      <td>Mailed check</td>\n",
       "      <td>56.95</td>\n",
       "      <td>1889.5</td>\n",
       "      <td>No</td>\n",
       "    </tr>\n",
       "    <tr>\n",
       "      <td>2</td>\n",
       "      <td>3668-QPYBK</td>\n",
       "      <td>Male</td>\n",
       "      <td>0</td>\n",
       "      <td>No</td>\n",
       "      <td>No</td>\n",
       "      <td>2</td>\n",
       "      <td>Yes</td>\n",
       "      <td>No</td>\n",
       "      <td>DSL</td>\n",
       "      <td>Yes</td>\n",
       "      <td>...</td>\n",
       "      <td>No</td>\n",
       "      <td>No</td>\n",
       "      <td>No</td>\n",
       "      <td>No</td>\n",
       "      <td>Month-to-month</td>\n",
       "      <td>Yes</td>\n",
       "      <td>Mailed check</td>\n",
       "      <td>53.85</td>\n",
       "      <td>108.15</td>\n",
       "      <td>Yes</td>\n",
       "    </tr>\n",
       "  </tbody>\n",
       "</table>\n",
       "<p>3 rows × 21 columns</p>\n",
       "</div>"
      ],
      "text/plain": [
       "   customerID  gender  SeniorCitizen Partner Dependents  tenure PhoneService  \\\n",
       "0  7590-VHVEG  Female              0     Yes         No       1           No   \n",
       "1  5575-GNVDE    Male              0      No         No      34          Yes   \n",
       "2  3668-QPYBK    Male              0      No         No       2          Yes   \n",
       "\n",
       "      MultipleLines InternetService OnlineSecurity  ... DeviceProtection  \\\n",
       "0  No phone service             DSL             No  ...               No   \n",
       "1                No             DSL            Yes  ...              Yes   \n",
       "2                No             DSL            Yes  ...               No   \n",
       "\n",
       "  TechSupport StreamingTV StreamingMovies        Contract PaperlessBilling  \\\n",
       "0          No          No              No  Month-to-month              Yes   \n",
       "1          No          No              No        One year               No   \n",
       "2          No          No              No  Month-to-month              Yes   \n",
       "\n",
       "      PaymentMethod MonthlyCharges  TotalCharges Churn  \n",
       "0  Electronic check          29.85         29.85    No  \n",
       "1      Mailed check          56.95        1889.5    No  \n",
       "2      Mailed check          53.85        108.15   Yes  \n",
       "\n",
       "[3 rows x 21 columns]"
      ]
     },
     "execution_count": 19,
     "metadata": {},
     "output_type": "execute_result"
    }
   ],
   "source": [
    "telco=pd.read_csv('../telco_customer_churn.csv')\n",
    "telco.head(3)"
   ]
  },
  {
   "cell_type": "code",
   "execution_count": 20,
   "metadata": {},
   "outputs": [],
   "source": [
    "telco.dropna(inplace=True)\n",
    "telco=telco.drop(['customerID'],axis=1)\n",
    "target=['Churn']\n",
    "categorical=telco.select_dtypes(include='object').columns.tolist()\n",
    "categorical=[x for x in categorical if x not in target]\n",
    "numeric=telco.dtypes[telco.dtypes!=object].keys().tolist()"
   ]
  },
  {
   "cell_type": "code",
   "execution_count": 21,
   "metadata": {},
   "outputs": [],
   "source": [
    "telco.Churn=telco.Churn.replace({\"Yes\":1, \"No\":0})\n",
    "telco2=pd.concat([telco,pd.get_dummies(telco[categorical])],axis=1).drop(telco[categorical],axis=1)"
   ]
  },
  {
   "cell_type": "code",
   "execution_count": 22,
   "metadata": {},
   "outputs": [],
   "source": [
    "X=telco2.drop('Churn',axis=1)\n",
    "y=telco2.Churn"
   ]
  },
  {
   "cell_type": "markdown",
   "metadata": {},
   "source": [
    "Generally, most of the datasets have very different scales and contain some very large outliers. These two characteristics lead to difficulties to visualize the data and, more importantly, they can degrade the predictive performance of many machine learning algorithms"
   ]
  },
  {
   "cell_type": "code",
   "execution_count": 23,
   "metadata": {},
   "outputs": [],
   "source": [
    "from sklearn.preprocessing import StandardScaler\n",
    "#Instantiate the scaler\n",
    "scaler=StandardScaler()\n",
    "Xsc=scaler.fit_transform(X)\n",
    "X_train,X_test,y_train,y_test=train_test_split(Xsc,y,test_size=0.20, random_state=40, stratify = y)"
   ]
  },
  {
   "cell_type": "code",
   "execution_count": 30,
   "metadata": {
    "scrolled": true
   },
   "outputs": [
    {
     "data": {
      "text/plain": [
       "KNeighborsClassifier(algorithm='auto', leaf_size=30, metric='minkowski',\n",
       "                     metric_params=None, n_jobs=None, n_neighbors=5, p=2,\n",
       "                     weights='uniform')"
      ]
     },
     "execution_count": 30,
     "metadata": {},
     "output_type": "execute_result"
    }
   ],
   "source": [
    "from sklearn.neighbors import KNeighborsClassifier\n",
    "clf=KNeighborsClassifier(n_neighbors=5)\n",
    "clf.fit(X_train,y_train)"
   ]
  },
  {
   "cell_type": "code",
   "execution_count": 31,
   "metadata": {},
   "outputs": [],
   "source": [
    "test_preds=clf.predict(X_test)"
   ]
  },
  {
   "cell_type": "code",
   "execution_count": 32,
   "metadata": {},
   "outputs": [
    {
     "data": {
      "text/plain": [
       "0.7366926898509581"
      ]
     },
     "execution_count": 32,
     "metadata": {},
     "output_type": "execute_result"
    }
   ],
   "source": [
    "clf.score(X_test,y_test)"
   ]
  },
  {
   "cell_type": "code",
   "execution_count": 33,
   "metadata": {
    "scrolled": false
   },
   "outputs": [
    {
     "name": "stdout",
     "output_type": "stream",
     "text": [
      "Precision Score: 0.56\n",
      "Recall Score: 0.0374331550802139\n",
      "Accuracy Score: 0.7366926898509581\n",
      "F1 Score: 0.07017543859649121\n",
      "AUC Score: 0.5134025678782711\n"
     ]
    }
   ],
   "source": [
    "from sklearn.metrics import precision_score, recall_score, accuracy_score, f1_score, roc_auc_score\n",
    "def metrics(x,y):\n",
    "    print(\"Precision Score: {}\".format(precision_score(x,y)))\n",
    "    print('Recall Score: {}'.format(recall_score(x,y)))\n",
    "    print(\"Accuracy Score: {}\".format(accuracy_score(x,y)))\n",
    "    print(\"F1 Score: {}\".format(f1_score(x,y)))\n",
    "    print(\"AUC Score: {}\".format(roc_auc_score(x,y)))\n",
    "metrics(y_test,test_preds)"
   ]
  },
  {
   "cell_type": "markdown",
   "metadata": {},
   "source": [
    "If the metrics / model performance are not satisfying we can try to find optimum k-neighbors."
   ]
  },
  {
   "cell_type": "code",
   "execution_count": 28,
   "metadata": {},
   "outputs": [],
   "source": [
    "from sklearn import metrics\n",
    "k_range=range(1,7)\n",
    "scores__list=[]\n",
    "for k in k_range:\n",
    "    clf=KNeighborsClassifier(n_neighbors=k)\n",
    "    clf.fit(X_train,y_train)\n",
    "    test_preds=clf.predict(X_test)\n",
    "    scores__list.append(metrics.accuracy_score(y_test,test_preds))"
   ]
  },
  {
   "cell_type": "code",
   "execution_count": 29,
   "metadata": {
    "scrolled": true
   },
   "outputs": [
    {
     "data": {
      "text/plain": [
       "Text(0, 0.5, 'Testing Accuracy')"
      ]
     },
     "execution_count": 29,
     "metadata": {},
     "output_type": "execute_result"
    },
    {
     "data": {
      "image/png": "[encoded data removed]",
      "text/plain": [
       "<Figure size 432x288 with 1 Axes>"
      ]
     },
     "metadata": {
      "needs_background": "light"
     },
     "output_type": "display_data"
    }
   ],
   "source": [
    "# Plot the relationship between k and the testing accuracy\n",
    "plt.plot(k_range,scores__list)\n",
    "plt.xlabel('Values of k for KNN')\n",
    "plt.ylabel('Testing Accuracy')"
   ]
  },
  {
   "cell_type": "code",
   "execution_count": 34,
   "metadata": {},
   "outputs": [],
   "source": [
    "# 5 neighbors have the biggest test accuracy value for KNN."
   ]
  }
 ],
 "metadata": {
  "kernelspec": {
   "display_name": "Python 3",
   "language": "python",
   "name": "python3"
  },
  "language_info": {
   "codemirror_mode": {
    "name": "ipython",
    "version": 3
   },
   "file_extension": ".py",
   "mimetype": "text/x-python",
   "name": "python",
   "nbconvert_exporter": "python",
   "pygments_lexer": "ipython3",
   "version": "3.7.4"
  }
 },
 "nbformat": 4,
 "nbformat_minor": 2
}
