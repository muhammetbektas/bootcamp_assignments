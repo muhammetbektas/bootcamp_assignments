{
 "cells": [
  {
   "cell_type": "code",
   "execution_count": 216,
   "metadata": {},
   "outputs": [],
   "source": [
    "import numpy as np\n",
    "import pandas as pd\n",
    "import warnings\n",
    "warnings.filterwarnings('ignore')\n",
    "import statistics"
   ]
  },
  {
   "cell_type": "code",
   "execution_count": 220,
   "metadata": {},
   "outputs": [],
   "source": [
    "rastgele=pd.DataFrame()\n",
    "rastgele['randint']=np.random.randint(45,90,100)\n",
    "rastgele['randint_sqrt']=np.sqrt(rastgele['randint'])\n",
    "rastgele['randint_sq']=rastgele['randint']**2"
   ]
  },
  {
   "cell_type": "code",
   "execution_count": 191,
   "metadata": {},
   "outputs": [
    {
     "name": "stdout",
     "output_type": "stream",
     "text": [
      "66.95\n",
      "8.135192822886113\n",
      "4684.33\n"
     ]
    }
   ],
   "source": [
    "print(np.mean(rastgele['randint']))\n",
    "print(np.mean(rastgele['randint_sqrt']))\n",
    "print(np.mean(rastgele['randint_sq']))"
   ]
  },
  {
   "cell_type": "code",
   "execution_count": 211,
   "metadata": {},
   "outputs": [
    {
     "data": {
      "text/plain": [
       "66.95"
      ]
     },
     "execution_count": 211,
     "metadata": {},
     "output_type": "execute_result"
    }
   ],
   "source": [
    "sum(rastgele['randint'])/len(rastgele['randint'])"
   ]
  },
  {
   "cell_type": "code",
   "execution_count": 223,
   "metadata": {},
   "outputs": [
    {
     "data": {
      "text/plain": [
       "8.169443009673287"
      ]
     },
     "execution_count": 223,
     "metadata": {},
     "output_type": "execute_result"
    }
   ],
   "source": [
    "sum(rastgele['randint_sqrt'])/len(rastgele['randint_sqrt'])"
   ]
  },
  {
   "cell_type": "code",
   "execution_count": 224,
   "metadata": {},
   "outputs": [
    {
     "data": {
      "text/plain": [
       "4700.98"
      ]
     },
     "execution_count": 224,
     "metadata": {},
     "output_type": "execute_result"
    }
   ],
   "source": [
    "sum(rastgele['randint_sq'])/len(rastgele['randint_sq'])"
   ]
  },
  {
   "cell_type": "code",
   "execution_count": 175,
   "metadata": {
    "scrolled": true
   },
   "outputs": [
    {
     "name": "stdout",
     "output_type": "stream",
     "text": [
      "64.0\n",
      "8.0\n",
      "4096.0\n"
     ]
    }
   ],
   "source": [
    "print(np.median(rastgele['randint']))\n",
    "print(np.median(rastgele['randint_sqrt']))\n",
    "print(np.median(rastgele['randint_sq']))"
   ]
  },
  {
   "cell_type": "code",
   "execution_count": 213,
   "metadata": {},
   "outputs": [
    {
     "name": "stdout",
     "output_type": "stream",
     "text": [
      "66.0\n",
      "8.12403840463596\n",
      "4356.0\n"
     ]
    }
   ],
   "source": [
    "print(statistics.median(rastgele['randint']))\n",
    "print(statistics.median(rastgele['randint_sqrt']))\n",
    "print(statistics.median(rastgele['randint_sq']))"
   ]
  },
  {
   "cell_type": "code",
   "execution_count": 199,
   "metadata": {},
   "outputs": [
    {
     "data": {
      "text/plain": [
       "47"
      ]
     },
     "execution_count": 199,
     "metadata": {},
     "output_type": "execute_result"
    }
   ],
   "source": [
    "(values,counts)=np.unique(rastgele['randint'],return_counts=True)\n",
    "ind=np.argmax(counts)\n",
    "values[ind]\n"
   ]
  },
  {
   "cell_type": "code",
   "execution_count": 200,
   "metadata": {},
   "outputs": [
    {
     "data": {
      "text/plain": [
       "6.855654600401044"
      ]
     },
     "execution_count": 200,
     "metadata": {},
     "output_type": "execute_result"
    }
   ],
   "source": [
    "(values,counts)=np.unique(rastgele['randint_sqrt'],return_counts=True)\n",
    "ind=np.argmax(counts)\n",
    "values[ind]"
   ]
  },
  {
   "cell_type": "code",
   "execution_count": 218,
   "metadata": {},
   "outputs": [
    {
     "data": {
      "text/plain": [
       "2209"
      ]
     },
     "execution_count": 218,
     "metadata": {},
     "output_type": "execute_result"
    }
   ],
   "source": [
    "(values,counts)=np.unique(rastgele['randint_sq'],return_counts=True)\n",
    "ind=np.argmax(counts)\n",
    "values[ind]"
   ]
  },
  {
   "cell_type": "code",
   "execution_count": 222,
   "metadata": {},
   "outputs": [
    {
     "name": "stdout",
     "output_type": "stream",
     "text": [
      "70\n",
      "8.366600265340756\n",
      "4900\n"
     ]
    }
   ],
   "source": [
    "print(statistics.mode(rastgele['randint']))\n",
    "print(statistics.mode(rastgele['randint_sqrt']))\n",
    "print(statistics.mode(rastgele['randint_sq']))"
   ]
  },
  {
   "cell_type": "code",
   "execution_count": 221,
   "metadata": {},
   "outputs": [
    {
     "data": {
      "text/plain": [
       "70"
      ]
     },
     "execution_count": 221,
     "metadata": {},
     "output_type": "execute_result"
    }
   ],
   "source": [
    "statistics.mode(rastgele['randint'])"
   ]
  },
  {
   "cell_type": "code",
   "execution_count": 204,
   "metadata": {},
   "outputs": [
    {
     "name": "stdout",
     "output_type": "stream",
     "text": [
      "204.06818181818178\n",
      "204.06818181818178\n",
      "0.7764017519821417\n",
      "0.7764017519821417\n",
      "3702544.7081818203\n",
      "3702544.7081818203\n"
     ]
    }
   ],
   "source": [
    "print(np.var(rastgele['randint'],ddof=1))\n",
    "print(rastgele['randint'].var())\n",
    "print(np.var(rastgele['randint_sqrt'],ddof=1))\n",
    "print(rastgele['randint_sqrt'].var())\n",
    "print(np.var(rastgele['randint_sq'],ddof=1))\n",
    "print(rastgele['randint_sq'].var())"
   ]
  },
  {
   "cell_type": "code",
   "execution_count": 208,
   "metadata": {},
   "outputs": [
    {
     "name": "stdout",
     "output_type": "stream",
     "text": [
      "14.285243498736092\n",
      "0.8811366250373104\n",
      "1924.1997578686628\n"
     ]
    }
   ],
   "source": [
    "print(np.std(rastgele['randint'],ddof=1))\n",
    "print(np.std(rastgele['randint_sqrt'],ddof=1))\n",
    "print(np.std(rastgele['randint_sq'],ddof=1))"
   ]
  },
  {
   "cell_type": "code",
   "execution_count": 210,
   "metadata": {},
   "outputs": [
    {
     "name": "stdout",
     "output_type": "stream",
     "text": [
      "1.428524349873609\n",
      "0.08811366250373104\n",
      "192.41997578686627\n"
     ]
    }
   ],
   "source": [
    "print(np.std(rastgele['randint'],ddof=1)/np.sqrt(len(rastgele['randint'])))\n",
    "print(np.std(rastgele['randint_sqrt'],ddof=1)/np.sqrt(len(rastgele['randint_sqrt'])))\n",
    "print(np.std(rastgele['randint_sq'],ddof=1)/np.sqrt(len(rastgele['randint_sq'])))"
   ]
  },
  {
   "cell_type": "code",
   "execution_count": null,
   "metadata": {},
   "outputs": [],
   "source": []
  }
 ],
 "metadata": {
  "kernelspec": {
   "display_name": "Python 3",
   "language": "python",
   "name": "python3"
  },
  "language_info": {
   "codemirror_mode": {
    "name": "ipython",
    "version": 3
   },
   "file_extension": ".py",
   "mimetype": "text/x-python",
   "name": "python",
   "nbconvert_exporter": "python",
   "pygments_lexer": "ipython3",
   "version": "3.7.3"
  }
 },
 "nbformat": 4,
 "nbformat_minor": 2
}
