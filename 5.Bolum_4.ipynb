{
 "cells": [
  {
   "cell_type": "markdown",
   "metadata": {},
   "source": [
    "#### SORU 1"
   ]
  },
  {
   "cell_type": "markdown",
   "metadata": {},
   "source": [
    "SELECT\n",
    "\n",
    "customerNumber,\n",
    "\n",
    "customerName,\n",
    "\n",
    "creditLimit\n",
    "\n",
    "FROM customers\n",
    "\n",
    "WHERE creditLimit>100000\n",
    "\n",
    "ORDER BY creditLimit;"
   ]
  },
  {
   "cell_type": "markdown",
   "metadata": {},
   "source": [
    "#### SORU 2"
   ]
  },
  {
   "cell_type": "markdown",
   "metadata": {},
   "source": [
    "SELECT*\n",
    "\n",
    "FROM customers\n",
    "\n",
    "WHERE customerNumber=151;"
   ]
  },
  {
   "cell_type": "markdown",
   "metadata": {},
   "source": [
    "#### SORU 3"
   ]
  },
  {
   "cell_type": "markdown",
   "metadata": {},
   "source": [
    "SELECT creditLimit,\n",
    "\n",
    "postalCode\n",
    "\n",
    "FROM customers\n",
    "\n",
    "WHERE postalCode=10022\n",
    "\n",
    "ORDER BY creditLimit DESC;"
   ]
  },
  {
   "cell_type": "code",
   "execution_count": null,
   "metadata": {},
   "outputs": [],
   "source": []
  }
 ],
 "metadata": {
  "kernelspec": {
   "display_name": "Python 3",
   "language": "python",
   "name": "python3"
  },
  "language_info": {
   "codemirror_mode": {
    "name": "ipython",
    "version": 3
   },
   "file_extension": ".py",
   "mimetype": "text/x-python",
   "name": "python",
   "nbconvert_exporter": "python",
   "pygments_lexer": "ipython3",
   "version": "3.7.3"
  }
 },
 "nbformat": 4,
 "nbformat_minor": 2
}
