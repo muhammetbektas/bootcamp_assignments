{
 "cells": [
  {
   "cell_type": "markdown",
   "metadata": {},
   "source": [
    "### Cevap 1"
   ]
  },
  {
   "cell_type": "code",
   "execution_count": 1,
   "metadata": {},
   "outputs": [
    {
     "name": "stdout",
     "output_type": "stream",
     "text": [
      "Dönüştürülecek sıcaklık değerini girin: 45C\n",
      "113.0 F\n"
     ]
    }
   ],
   "source": [
    "#try içerisinde hata verebilecek komutlar yazılır.Hata verdiği an try bloğundan çıkılır, bu hata python içinde tutulur.\n",
    "#Eğer hatam ValueError ise except komutunun içerisindeki kod çalışır.\n",
    "#except ise bu hatayı yakalamamı sağlar.\n",
    "deger=input(\"Dönüştürülecek sıcaklık değerini girin: \")\n",
    "try:\n",
    "    if (deger[-1]=='F') | (deger[-1]=='f'):\n",
    "        celc=(5/9)*(int(deger[0:-1])-32)\n",
    "        print(round(celc,2),'C')\n",
    "    elif (deger[-1]=='C') | (deger[-1]=='c'):\n",
    "        fahr=(9/5)*int(deger[0:-1])+32\n",
    "        print(round(fahr,2),'F')\n",
    "    else:\n",
    "        print(\"\\nBu programla sadece Fahrenayt-Celcius dönüşümü yapılabilir. Lütfen birim belirtiniz.\")\n",
    "    \n",
    "except ValueError:\n",
    "    print(\"\\nLütfen geçerli bir sayı girin. (Örnek: 40C)\")"
   ]
  },
  {
   "cell_type": "code",
   "execution_count": 2,
   "metadata": {},
   "outputs": [
    {
     "name": "stdout",
     "output_type": "stream",
     "text": [
      "Dönüştürülecek sıcaklık değerini girin: 45C\n",
      "\n",
      "Dönüştürülen sıcaklık değeri: 113F'dir.\n"
     ]
    }
   ],
   "source": [
    "#Alternatif\n",
    "girilen=input(\"Dönüştürülecek sıcaklık değerini girin: \")\n",
    "liste=[harf for harf in girilen]\n",
    "\n",
    "birim=\"\"\n",
    "derece=\"\"\n",
    "yeni_derece=0\n",
    "x=0\n",
    "\n",
    "birim=liste[len(liste)-1]\n",
    "\n",
    "while x<len(liste)-1:\n",
    "    derece=derece+liste[x]\n",
    "    x+=1\n",
    "\n",
    "try:\n",
    "    derece=int(derece)\n",
    "    \n",
    "    if birim==\"f\" or birim==\"F\":\n",
    "        yeni_derece=(5/9)*(derece-32)\n",
    "        print(\"\\nDönüştürülen sıcaklık değeri: {:.0f}C'dir.\".format(yeni_derece))\n",
    "        \n",
    "    elif birim==\"c\" or birim==\"C\":\n",
    "        yeni_derece=(9/5)*derece+32\n",
    "        print(\"\\nDönüştürülen sıcaklık değeri: {:.0f}F'dir.\".format(yeni_derece))\n",
    "    \n",
    "    else:\n",
    "        print(\"\\nBu programla sadece Fahrenayt-Celcius dönüşümü yapılabilir.\")\n",
    "    \n",
    "except ValueError:\n",
    "    print(\"\\nLütfen geçerli bir sayı girin. (Örnek: 40C)\")"
   ]
  },
  {
   "cell_type": "markdown",
   "metadata": {},
   "source": [
    "### Cevap 2"
   ]
  },
  {
   "cell_type": "code",
   "execution_count": 3,
   "metadata": {},
   "outputs": [
    {
     "name": "stdout",
     "output_type": "stream",
     "text": [
      "Bir kelime giriniz=otobüs\n",
      "süboto"
     ]
    }
   ],
   "source": [
    "kelime=input(\"Bir kelime giriniz=\")\n",
    "a=len(kelime)-1\n",
    "while a>=0:\n",
    "    print(kelime[a],end='')\n",
    "    a-=1"
   ]
  },
  {
   "cell_type": "code",
   "execution_count": 4,
   "metadata": {},
   "outputs": [
    {
     "name": "stdout",
     "output_type": "stream",
     "text": [
      "Bir kelime giriniz=otobüs\n",
      "süboto"
     ]
    }
   ],
   "source": [
    "kelime=input(\"Bir kelime giriniz=\")\n",
    "for i in range(len(kelime),0,-1):\n",
    "    print(kelime[i-1],end='')"
   ]
  },
  {
   "cell_type": "markdown",
   "metadata": {},
   "source": [
    "### Cevap 3"
   ]
  },
  {
   "cell_type": "code",
   "execution_count": 5,
   "metadata": {
    "scrolled": true
   },
   "outputs": [
    {
     "data": {
      "text/plain": [
       "[0, 1, 1, 2, 3, 5, 8, 13]"
      ]
     },
     "execution_count": 5,
     "metadata": {},
     "output_type": "execute_result"
    }
   ],
   "source": [
    "def fibonacci(n):\n",
    "    fibo= [0, 1] \n",
    "    while fibo[-1]+fibo[-2] <n:\n",
    "        fibo.append(fibo[-1]+fibo[-2]) \n",
    "    return fibo\n",
    "fibonacci(20)"
   ]
  },
  {
   "cell_type": "code",
   "execution_count": 6,
   "metadata": {
    "scrolled": true
   },
   "outputs": [
    {
     "name": "stdout",
     "output_type": "stream",
     "text": [
      "[1, 1, 2, 3, 5, 8, 13, 21, 34, 55, 89, 144, 233, 377, 610, 987, 1597, 2584, 4181, 6765]\n"
     ]
    }
   ],
   "source": [
    "#Ilk 50 fibonacci sayisi\n",
    "fibo=[]\n",
    "\n",
    "for x in range(20):\n",
    "    if x<2:\n",
    "        fibo.append(1)\n",
    "        \n",
    "    else:\n",
    "        fibo.append(fibo[x-2]+fibo[x-1])\n",
    "\n",
    "print(fibo)"
   ]
  },
  {
   "cell_type": "markdown",
   "metadata": {},
   "source": [
    "### Cevap 4"
   ]
  },
  {
   "cell_type": "code",
   "execution_count": 7,
   "metadata": {},
   "outputs": [
    {
     "name": "stdout",
     "output_type": "stream",
     "text": [
      "Hangi sayı için çarpım tablosu oluşturulsun :6\n",
      "6 X 1 = 6\n",
      "6 X 2 = 12\n",
      "6 X 3 = 18\n",
      "6 X 4 = 24\n",
      "6 X 5 = 30\n",
      "6 X 6 = 36\n",
      "6 X 7 = 42\n",
      "6 X 8 = 48\n",
      "6 X 9 = 54\n",
      "6 X 10 = 60\n"
     ]
    }
   ],
   "source": [
    "sayi=int(input('Hangi sayı için çarpım tablosu oluşturulsun :'))\n",
    "a=1\n",
    "while a<=10:\n",
    "    b=sayi*a\n",
    "    print('{} X {} = {}'.format(sayi,a,b))\n",
    "    a+=1"
   ]
  },
  {
   "cell_type": "code",
   "execution_count": 8,
   "metadata": {},
   "outputs": [
    {
     "name": "stdout",
     "output_type": "stream",
     "text": [
      "Hangi sayı için çarpım tablosu oluşturulsun: 6\n",
      "6 X 0 = 0\n",
      "6 X 1 = 6\n",
      "6 X 2 = 12\n",
      "6 X 3 = 18\n",
      "6 X 4 = 24\n",
      "6 X 5 = 30\n",
      "6 X 6 = 36\n",
      "6 X 7 = 42\n",
      "6 X 8 = 48\n",
      "6 X 9 = 54\n",
      "6 X 10 = 60\n"
     ]
    }
   ],
   "source": [
    "#Alternatif\n",
    "x = int(input(\"Hangi sayı için çarpım tablosu oluşturulsun: \"))\n",
    "\n",
    "for i in range (0,11):\n",
    "    \n",
    "    print(x,\"X\",i, \"=\", x*i)"
   ]
  },
  {
   "cell_type": "markdown",
   "metadata": {},
   "source": [
    "### Cevap 5"
   ]
  },
  {
   "cell_type": "code",
   "execution_count": 9,
   "metadata": {},
   "outputs": [
    {
     "name": "stdout",
     "output_type": "stream",
     "text": [
      "[1, 9, 25, 49, 81, 121, 169, 225, 289, 361]\n",
      "[8, 64, 216, 512, 1000, 1728, 2744, 4096, 5832, 8000]\n"
     ]
    }
   ],
   "source": [
    "#Ayrı ayrı listelerde\n",
    "teksayiskaresi=[x**2 for x in range(1,21) if x%2!=0]\n",
    "ciftsayiküpü=[y**3 for y in range(1,21) if y%2==0]\n",
    "print(teksayiskaresi)\n",
    "print(ciftsayiküpü)"
   ]
  },
  {
   "cell_type": "code",
   "execution_count": 10,
   "metadata": {},
   "outputs": [
    {
     "name": "stdout",
     "output_type": "stream",
     "text": [
      "[1, 8, 9, 64, 25, 216, 49, 512, 81, 1000, 121, 1728, 169, 2744, 225, 4096, 289, 5832, 361, 8000]\n"
     ]
    }
   ],
   "source": [
    "#tek bir listede\n",
    "liste=[x**3 if x%2==0 else x**2 for x in range(1,21)]\n",
    "print(liste)"
   ]
  }
 ],
 "metadata": {
  "kernelspec": {
   "display_name": "Python 3",
   "language": "python",
   "name": "python3"
  },
  "language_info": {
   "codemirror_mode": {
    "name": "ipython",
    "version": 3
   },
   "file_extension": ".py",
   "mimetype": "text/x-python",
   "name": "python",
   "nbconvert_exporter": "python",
   "pygments_lexer": "ipython3",
   "version": "3.7.4"
  }
 },
 "nbformat": 4,
 "nbformat_minor": 2
}
