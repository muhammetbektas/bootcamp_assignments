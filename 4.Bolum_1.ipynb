{
 "cells": [
  {
   "cell_type": "code",
   "execution_count": 5,
   "metadata": {},
   "outputs": [
    {
     "data": {
      "text/plain": [
       "'Keşifsel veri analizinin amacı, elimizdeki veride bulunan hataları gidermek ve verinin faydalı özelliklerini belirleyerek kullanılabilir hale getirmektir.'"
      ]
     },
     "execution_count": 5,
     "metadata": {},
     "output_type": "execute_result"
    }
   ],
   "source": [
    "\"Keşifsel veri analizinin amacı, elimizdeki veride bulunan hataları gidermek ve verinin faydalı özelliklerini belirleyerek kullanılabilir hale getirmektir.\""
   ]
  },
  {
   "cell_type": "code",
   "execution_count": 6,
   "metadata": {},
   "outputs": [
    {
     "data": {
      "text/plain": [
       "'Bir e-ticaret şirketinin ürünlerine ait müşteri yorumlarını içeren bir veri kümesi üzerinde çalıştığınızı farz edin. Şirketin web sitesi aracılığıyla toplanan müşteri yorumları içeriğinin olumlu ya da olumsuz olmasına göre 1 ila 5 arasında derecelendirilmiştir.'"
      ]
     },
     "execution_count": 6,
     "metadata": {},
     "output_type": "execute_result"
    }
   ],
   "source": [
    "\"Bir e-ticaret şirketinin ürünlerine ait müşteri yorumlarını içeren bir veri kümesi üzerinde çalıştığınızı farz edin. Şirketin web sitesi aracılığıyla toplanan müşteri yorumları içeriğinin olumlu ya da olumsuz olmasına göre 1 ila 5 arasında derecelendirilmiştir.\""
   ]
  },
  {
   "cell_type": "code",
   "execution_count": 7,
   "metadata": {},
   "outputs": [
    {
     "name": "stdout",
     "output_type": "stream",
     "text": [
      "1)Müşteri hizmetten memnun kalmadığını belirtir ancak sebebini belirtmek istemez ve ya buna zaman ayırmaz.\n",
      "2)Yorumların anlaşılırlığının az olması(harf, kelime eksiklikleri) ve ya olumlu/olumsuz ayrımının yapılamaması.\n"
     ]
    }
   ],
   "source": [
    "'a)Ham verideki problemler nelerdir?'\n",
    "print('1)Müşteri hizmetten memnun kalmadığını belirtir ancak sebebini belirtmek istemez ve ya buna zaman ayırmaz.\\n2)Yorumların anlaşılırlığının az olması(harf, kelime eksiklikleri) ve ya olumlu/olumsuz ayrımının yapılamaması.')"
   ]
  },
  {
   "cell_type": "code",
   "execution_count": 9,
   "metadata": {},
   "outputs": [
    {
     "data": {
      "text/plain": [
       "'b)Göreviniz müşterilerin yorumlarının olumlu yada olumsuz olduğunu ortaya çıkaran özellikleri belirlemek olsaydı nasıl bir yaklaşımda bulunur ve bunun için hangi metodları kullanırdınız?'"
      ]
     },
     "execution_count": 9,
     "metadata": {},
     "output_type": "execute_result"
    }
   ],
   "source": [
    "'b)Göreviniz müşterilerin yorumlarının olumlu yada olumsuz olduğunu ortaya çıkaran özellikleri belirlemek olsaydı nasıl bir yaklaşımda bulunur ve bunun için hangi metodları kullanırdınız?'"
   ]
  },
  {
   "cell_type": "code",
   "execution_count": 12,
   "metadata": {},
   "outputs": [
    {
     "name": "stdout",
     "output_type": "stream",
     "text": [
      "Cümle içindeki kelimeleri olumlu/olumsuz şeklinde ayırıp örn. olumlu kelime çoksa yapılan yorumu olumlu kabul ederim.Bir diğeri ise cümlenin son kelimesinin(yüklemin) olumsuzluk eki alıp almadağını, aynı zamanda da cümle içinde başka olumsuzluk eki kullanılan kelime olup olmadığını kontrol ederim.\n"
     ]
    }
   ],
   "source": [
    "print('Cümle içindeki kelimeleri olumlu/olumsuz şeklinde ayırıp örn. olumlu kelime çoksa yapılan yorumu olumlu kabul ederim.'\n",
    "'Bir diğeri ise cümlenin son kelimesinin(yüklemin) olumsuzluk eki alıp almadağını, aynı zamanda da cümle içinde başka olumsuzluk eki kullanılan kelime olup olmadığını kontrol ederim.')"
   ]
  },
  {
   "cell_type": "code",
   "execution_count": 13,
   "metadata": {},
   "outputs": [
    {
     "data": {
      "text/plain": [
       "'c)Ham veriden çıkarılabilecek yararlı özelliklerin neler olabilir? Bu verilere nasıl ulaşılabilirsiniz ve bunların faydalı olup olmayacağını nasıl anlayabilirsiniz?'"
      ]
     },
     "execution_count": 13,
     "metadata": {},
     "output_type": "execute_result"
    }
   ],
   "source": [
    "'c)Ham veriden çıkarılabilecek yararlı özelliklerin neler olabilir? Bu verilere nasıl ulaşılabilirsiniz ve bunların faydalı olup olmayacağını nasıl anlayabilirsiniz?'"
   ]
  },
  {
   "cell_type": "code",
   "execution_count": 16,
   "metadata": {},
   "outputs": [
    {
     "data": {
      "text/plain": [
       "'Bu veriler yapılan alışveriş hakkında şirkete önemli geri dönüşler verir ve bu sayede şirketinde hizmet kalitesini iyileştirmesi adına kolaylık sağlar'"
      ]
     },
     "execution_count": 16,
     "metadata": {},
     "output_type": "execute_result"
    }
   ],
   "source": [
    "'Bu veriler yapılan alışveriş hakkında şirkete önemli geri dönüşler verir ve bu sayede şirketinde hizmet kalitesini iyileştirmesi adına kolaylık sağlar'"
   ]
  }
 ],
 "metadata": {
  "kernelspec": {
   "display_name": "Python 3",
   "language": "python",
   "name": "python3"
  },
  "language_info": {
   "codemirror_mode": {
    "name": "ipython",
    "version": 3
   },
   "file_extension": ".py",
   "mimetype": "text/x-python",
   "name": "python",
   "nbconvert_exporter": "python",
   "pygments_lexer": "ipython3",
   "version": "3.7.3"
  }
 },
 "nbformat": 4,
 "nbformat_minor": 2
}
