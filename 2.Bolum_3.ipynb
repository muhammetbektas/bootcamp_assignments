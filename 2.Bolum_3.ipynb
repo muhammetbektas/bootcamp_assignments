{
 "cells": [
  {
   "cell_type": "markdown",
   "metadata": {},
   "source": [
    "### Cevap 1"
   ]
  },
  {
   "cell_type": "code",
   "execution_count": 5,
   "metadata": {
    "scrolled": false
   },
   "outputs": [
    {
     "name": "stdout",
     "output_type": "stream",
     "text": [
      "Pazartesi\n",
      "Salı\n",
      "Çarşamba\n",
      "Perşembe\n",
      "Cuma\n",
      "Cumartesi\n",
      "Pazar\n",
      "\n",
      "Silmek istediğiniz 1inci günü seçin: 4\n",
      "Silmek istediğiniz 2 nci günü seçin: 6\n",
      "\n",
      "Pazartesi\n",
      "Salı\n",
      "Çarşamba\n",
      "Cuma\n",
      "Pazar\n"
     ]
    }
   ],
   "source": [
    "gunler={\"1\":\"Pazartesi\",\n",
    "        \"2\":\"Salı\",\n",
    "        \"3\":\"Çarşamba\",\n",
    "        \"4\":\"Perşembe\",\n",
    "        \"5\":\"Cuma\",\n",
    "        \"6\":\"Cumartesi\",\n",
    "        \"7\":\"Pazar\",\n",
    "       }\n",
    "\n",
    "print(\"\\n\".join(gunler.values()))\n",
    "gun1=input(\"\\nSilmek istediğiniz 1inci günü seçin: \")\n",
    "gun2=input(\"Silmek istediğiniz 2 nci günü seçin: \")\n",
    "silinen=[gun1,gun2]\n",
    "del gunler[silinen[0]]\n",
    "del gunler[silinen[1]]\n",
    "\n",
    "print('\\n'+'\\n'.join(gunler.values()))"
   ]
  },
  {
   "cell_type": "markdown",
   "metadata": {},
   "source": [
    "### Cevap 2"
   ]
  },
  {
   "cell_type": "code",
   "execution_count": 6,
   "metadata": {
    "scrolled": true
   },
   "outputs": [
    {
     "name": "stdout",
     "output_type": "stream",
     "text": [
      "[['Ocak', 31], ['Şubat', 28], ['Mart', 31], ['Nisan', 30], ['Mayıs', 31], ['Haziran', 30], ['Temmuz', 31], ['Ağustos', 31], ['Eylül', 30], ['Ekim', 31], ['Kasım', 30], ['Aralık', 31]]\n"
     ]
    }
   ],
   "source": [
    "aylar=[[\"Ocak\", 31], [\"Şubat\", 28], [\"Mart\", 31], \n",
    "       [\"Nisan\", 30], [\"Mayıs\", 31], [\"Haziran\", 30], \n",
    "       [\"Temmuz\", 31], [\"Ağustos\", 31], [\"Eylül\", 30], \n",
    "       [\"Ekim\", 31], [\"Kasım\", 30], [\"Aralık\", 31]]\n",
    "print(aylar)"
   ]
  },
  {
   "cell_type": "markdown",
   "metadata": {},
   "source": [
    "### Cevap 3"
   ]
  },
  {
   "cell_type": "code",
   "execution_count": 7,
   "metadata": {},
   "outputs": [
    {
     "name": "stdout",
     "output_type": "stream",
     "text": [
      "[['Ocak', 'Şubat', 'Mart', 'Nisan', 'Mayıs', 'Haziran', 'Temmuz', 'Ağustos', 'Eylül', 'Ekim', 'Kasım', 'Aralık'], [31, 28, 31, 30, 31, 30, 31, 31, 30, 31, 30, 31]]\n"
     ]
    }
   ],
   "source": [
    "ay_adlari=[aylar[0][0], aylar[1][0], aylar[2][0], \n",
    "           aylar[3][0], aylar[4][0], aylar[5][0], \n",
    "           aylar[6][0], aylar[7][0], aylar[8][0], \n",
    "           aylar[9][0], aylar[10][0], aylar[11][0],]\n",
    "\n",
    "gun_sayilari=[aylar[0][1], aylar[1][1], aylar[2][1], \n",
    "              aylar[3][1], aylar[4][1], aylar[5][1], \n",
    "              aylar[6][1], aylar[7][1], aylar[8][1], \n",
    "              aylar[9][1], aylar[10][1], aylar[11][1],]\n",
    "\n",
    "birlesik=[ay_adlari, gun_sayilari]\n",
    "\n",
    "print(birlesik)"
   ]
  },
  {
   "cell_type": "markdown",
   "metadata": {},
   "source": [
    "### Cevap 4"
   ]
  },
  {
   "cell_type": "code",
   "execution_count": 8,
   "metadata": {},
   "outputs": [
    {
     "name": "stdout",
     "output_type": "stream",
     "text": [
      "[[['Mart', 31], ['Nisan', 30], ['Mayıs', 31]], [['Haziran', 30], ['Temmuz', 31], ['Ağustos', 31]], [['Eylül', 30], ['Ekim', 31], ['Kasım', 30]], [['Aralık', 31], ['Ocak', 31], ['Şubat', 28]]]\n"
     ]
    }
   ],
   "source": [
    "ilkbahar=[[\"Mart\", 31], [\"Nisan\", 30], [\"Mayıs\", 31],]\n",
    "yaz=[[\"Haziran\", 30], [\"Temmuz\", 31], [\"Ağustos\", 31],]\n",
    "sonbahar=[[\"Eylül\", 30], [\"Ekim\", 31], [\"Kasım\", 30],]\n",
    "kis=[[\"Aralık\", 31], [\"Ocak\", 31], [\"Şubat\", 28]]\n",
    "mevsimler=[ilkbahar,yaz,sonbahar,kis]\n",
    "print(mevsimler)"
   ]
  },
  {
   "cell_type": "markdown",
   "metadata": {},
   "source": [
    "### Cevap 5"
   ]
  },
  {
   "cell_type": "code",
   "execution_count": 9,
   "metadata": {},
   "outputs": [
    {
     "name": "stdout",
     "output_type": "stream",
     "text": [
      "92\n"
     ]
    }
   ],
   "source": [
    "print(yaz[0][1]+yaz[1][1]+yaz[2][1])"
   ]
  }
 ],
 "metadata": {
  "kernelspec": {
   "display_name": "Python 3",
   "language": "python",
   "name": "python3"
  },
  "language_info": {
   "codemirror_mode": {
    "name": "ipython",
    "version": 3
   },
   "file_extension": ".py",
   "mimetype": "text/x-python",
   "name": "python",
   "nbconvert_exporter": "python",
   "pygments_lexer": "ipython3",
   "version": "3.7.4"
  }
 },
 "nbformat": 4,
 "nbformat_minor": 2
}
