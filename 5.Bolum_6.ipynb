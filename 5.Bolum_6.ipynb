{
 "cells": [
  {
   "cell_type": "markdown",
   "metadata": {},
   "source": [
    "#### SORU 1"
   ]
  },
  {
   "cell_type": "markdown",
   "metadata": {},
   "source": [
    "SELECT COUNT(*) as Miktar,\n",
    "\n",
    "CASE\n",
    "\n",
    "    WHEN Miktar>20 THEN 'büyük'\n",
    "\n",
    "    WHEN Miktar>10 THEN 'orta'\n",
    "\n",
    "    ELSE 'küçük' \n",
    "\n",
    "END AS Sınıf\n",
    "\n",
    "FROM(SELECT country AS Ulke, COUNT(*) Miktar\n",
    "\n",
    "FROM customers\n",
    "\n",
    "GROUP BY country\n",
    "\n",
    "ORDER BY Miktar DESC) class\n",
    "\n",
    "GROUP BY Sınıf;"
   ]
  }
 ],
 "metadata": {
  "kernelspec": {
   "display_name": "Python 3",
   "language": "python",
   "name": "python3"
  },
  "language_info": {
   "codemirror_mode": {
    "name": "ipython",
    "version": 3
   },
   "file_extension": ".py",
   "mimetype": "text/x-python",
   "name": "python",
   "nbconvert_exporter": "python",
   "pygments_lexer": "ipython3",
   "version": "3.7.3"
  }
 },
 "nbformat": 4,
 "nbformat_minor": 2
}
