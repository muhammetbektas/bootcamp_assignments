{
 "cells": [
  {
   "cell_type": "markdown",
   "metadata": {},
   "source": [
    "## Regression with Keras"
   ]
  },
  {
   "cell_type": "code",
   "execution_count": 1,
   "metadata": {},
   "outputs": [],
   "source": [
    "import pandas as pd\n",
    "import numpy as np\n",
    "import matplotlib.pyplot as plt\n",
    "%matplotlib inline\n",
    "import warnings\n",
    "warnings.filterwarnings(\"ignore\")\n",
    "from scipy.stats.mstats import winsorize"
   ]
  },
  {
   "cell_type": "code",
   "execution_count": 2,
   "metadata": {},
   "outputs": [
    {
     "data": {
      "text/html": [
       "<div>\n",
       "<style scoped>\n",
       "    .dataframe tbody tr th:only-of-type {\n",
       "        vertical-align: middle;\n",
       "    }\n",
       "\n",
       "    .dataframe tbody tr th {\n",
       "        vertical-align: top;\n",
       "    }\n",
       "\n",
       "    .dataframe thead th {\n",
       "        text-align: right;\n",
       "    }\n",
       "</style>\n",
       "<table border=\"1\" class=\"dataframe\">\n",
       "  <thead>\n",
       "    <tr style=\"text-align: right;\">\n",
       "      <th></th>\n",
       "      <th>date</th>\n",
       "      <th>Appliances</th>\n",
       "      <th>lights</th>\n",
       "      <th>T1</th>\n",
       "      <th>RH_1</th>\n",
       "      <th>T2</th>\n",
       "      <th>RH_2</th>\n",
       "      <th>T3</th>\n",
       "      <th>RH_3</th>\n",
       "      <th>T4</th>\n",
       "      <th>...</th>\n",
       "      <th>T9</th>\n",
       "      <th>RH_9</th>\n",
       "      <th>T_out</th>\n",
       "      <th>Press_mm_hg</th>\n",
       "      <th>RH_out</th>\n",
       "      <th>Windspeed</th>\n",
       "      <th>Visibility</th>\n",
       "      <th>Tdewpoint</th>\n",
       "      <th>rv1</th>\n",
       "      <th>rv2</th>\n",
       "    </tr>\n",
       "  </thead>\n",
       "  <tbody>\n",
       "    <tr>\n",
       "      <th>0</th>\n",
       "      <td>2016-01-11 17:00:00</td>\n",
       "      <td>60</td>\n",
       "      <td>30</td>\n",
       "      <td>19.89</td>\n",
       "      <td>47.596667</td>\n",
       "      <td>19.2</td>\n",
       "      <td>44.790000</td>\n",
       "      <td>19.79</td>\n",
       "      <td>44.730000</td>\n",
       "      <td>19.000000</td>\n",
       "      <td>...</td>\n",
       "      <td>17.033333</td>\n",
       "      <td>45.53</td>\n",
       "      <td>6.600000</td>\n",
       "      <td>733.5</td>\n",
       "      <td>92.0</td>\n",
       "      <td>7.000000</td>\n",
       "      <td>63.000000</td>\n",
       "      <td>5.3</td>\n",
       "      <td>13.275433</td>\n",
       "      <td>13.275433</td>\n",
       "    </tr>\n",
       "    <tr>\n",
       "      <th>1</th>\n",
       "      <td>2016-01-11 17:10:00</td>\n",
       "      <td>60</td>\n",
       "      <td>30</td>\n",
       "      <td>19.89</td>\n",
       "      <td>46.693333</td>\n",
       "      <td>19.2</td>\n",
       "      <td>44.722500</td>\n",
       "      <td>19.79</td>\n",
       "      <td>44.790000</td>\n",
       "      <td>19.000000</td>\n",
       "      <td>...</td>\n",
       "      <td>17.066667</td>\n",
       "      <td>45.56</td>\n",
       "      <td>6.483333</td>\n",
       "      <td>733.6</td>\n",
       "      <td>92.0</td>\n",
       "      <td>6.666667</td>\n",
       "      <td>59.166667</td>\n",
       "      <td>5.2</td>\n",
       "      <td>18.606195</td>\n",
       "      <td>18.606195</td>\n",
       "    </tr>\n",
       "    <tr>\n",
       "      <th>2</th>\n",
       "      <td>2016-01-11 17:20:00</td>\n",
       "      <td>50</td>\n",
       "      <td>30</td>\n",
       "      <td>19.89</td>\n",
       "      <td>46.300000</td>\n",
       "      <td>19.2</td>\n",
       "      <td>44.626667</td>\n",
       "      <td>19.79</td>\n",
       "      <td>44.933333</td>\n",
       "      <td>18.926667</td>\n",
       "      <td>...</td>\n",
       "      <td>17.000000</td>\n",
       "      <td>45.50</td>\n",
       "      <td>6.366667</td>\n",
       "      <td>733.7</td>\n",
       "      <td>92.0</td>\n",
       "      <td>6.333333</td>\n",
       "      <td>55.333333</td>\n",
       "      <td>5.1</td>\n",
       "      <td>28.642668</td>\n",
       "      <td>28.642668</td>\n",
       "    </tr>\n",
       "  </tbody>\n",
       "</table>\n",
       "<p>3 rows × 29 columns</p>\n",
       "</div>"
      ],
      "text/plain": [
       "                  date  Appliances  lights     T1       RH_1    T2       RH_2  \\\n",
       "0  2016-01-11 17:00:00          60      30  19.89  47.596667  19.2  44.790000   \n",
       "1  2016-01-11 17:10:00          60      30  19.89  46.693333  19.2  44.722500   \n",
       "2  2016-01-11 17:20:00          50      30  19.89  46.300000  19.2  44.626667   \n",
       "\n",
       "      T3       RH_3         T4  ...         T9   RH_9     T_out  Press_mm_hg  \\\n",
       "0  19.79  44.730000  19.000000  ...  17.033333  45.53  6.600000        733.5   \n",
       "1  19.79  44.790000  19.000000  ...  17.066667  45.56  6.483333        733.6   \n",
       "2  19.79  44.933333  18.926667  ...  17.000000  45.50  6.366667        733.7   \n",
       "\n",
       "   RH_out  Windspeed  Visibility  Tdewpoint        rv1        rv2  \n",
       "0    92.0   7.000000   63.000000        5.3  13.275433  13.275433  \n",
       "1    92.0   6.666667   59.166667        5.2  18.606195  18.606195  \n",
       "2    92.0   6.333333   55.333333        5.1  28.642668  28.642668  \n",
       "\n",
       "[3 rows x 29 columns]"
      ]
     },
     "execution_count": 2,
     "metadata": {},
     "output_type": "execute_result"
    }
   ],
   "source": [
    "df=pd.read_csv('C:\\\\Users\\\\Goksun\\\\Downloads\\\\appliances-energy.csv')\n",
    "df.head(3)"
   ]
  },
  {
   "cell_type": "code",
   "execution_count": 3,
   "metadata": {},
   "outputs": [],
   "source": [
    "#Due to lot of zero enteries, this column is of not much use and will be ignored in rest of the model.\n",
    "df.drop(columns='lights',axis=1,inplace=True)"
   ]
  },
  {
   "cell_type": "code",
   "execution_count": 4,
   "metadata": {},
   "outputs": [],
   "source": [
    "df['date'] = pd.to_datetime(df['date'])\n",
    "df= df.set_index('date')\n",
    "df.index.name ='time'\n",
    "df['date'] = df.index.date\n",
    "df['day'] = df.index.day\n",
    "df['month'] = df.index.month\n",
    "df['hour'] = df.index.hour"
   ]
  },
  {
   "cell_type": "code",
   "execution_count": 5,
   "metadata": {},
   "outputs": [],
   "source": [
    "df2=pd.concat([df.groupby(['month','day','hour']).Appliances.sum(),\n",
    "           df.groupby(['month','day','hour']).mean().drop('Appliances',axis=1)],axis=1)"
   ]
  },
  {
   "cell_type": "code",
   "execution_count": 6,
   "metadata": {},
   "outputs": [],
   "source": [
    "def f(x):\n",
    "    x = x +273.15\n",
    "    return x"
   ]
  },
  {
   "cell_type": "code",
   "execution_count": 7,
   "metadata": {},
   "outputs": [],
   "source": [
    "dfk=df2.copy()\n",
    "temp_list=['T1','T2','T3','T4','T6','T5','T7','T8','T9','T_out','Tdewpoint']\n",
    "for i in temp_list:\n",
    "    dfk[i] = dfk[i].apply(f)"
   ]
  },
  {
   "cell_type": "code",
   "execution_count": 8,
   "metadata": {},
   "outputs": [],
   "source": [
    "dfkw=pd.DataFrame()\n",
    "others=['RH_4','RH_6','T7']\n",
    "for i in others:\n",
    "    dfkw['w_%s'%i]=dfk[i]"
   ]
  },
  {
   "cell_type": "code",
   "execution_count": 9,
   "metadata": {},
   "outputs": [],
   "source": [
    "#One by one, we kept winsorization low ratio because it might cause some side effects if we increase that ratio too much.\n",
    "dfkw['w_Appliances']=winsorize(dfk.Appliances,(0,0.105))\n",
    "dfkw['w_T1']=winsorize(dfk.T1,(0.05,0.05))\n",
    "dfkw['w_RH_1']=winsorize(dfk.RH_1,(0.01,0.01))\n",
    "dfkw['w_T2']=winsorize(dfk.T2,(0,0.04))\n",
    "dfkw['w_RH_2']=winsorize(dfk.RH_2,(0.01,0.01))\n",
    "dfkw['w_T3']=winsorize(dfk.T3,(0,0.02))\n",
    "dfkw['w_T4']=winsorize(dfk.T4,(0.01,0.01))\n",
    "dfkw['w_T5']=winsorize(dfk.T5,(0,0.01))\n",
    "dfkw['w_RH_5']=winsorize(dfk.RH_5,(0.001,0.07))\n",
    "dfkw['w_T6']=winsorize(dfk.T6,(0,0.05))\n",
    "dfkw['w_RH_7']=winsorize(dfk.RH_7,(0,0.04))\n",
    "dfkw['w_T_out']=winsorize(dfk.T_out,(0,0.04))\n",
    "dfkw['w_Press_mm_hg']=winsorize(dfk.Press_mm_hg,(0.012,0))\n",
    "dfkw['w_RH_out']=winsorize(dfk.RH_out,(0.02,0))\n",
    "dfkw['w_Windspeed']=winsorize(dfk.Windspeed,(0,0.02))\n",
    "dfkw['w_Visibility']=winsorize(dfk.Visibility,(0.05,0.125))\n",
    "dfkw['w_RH_3']=winsorize(dfk.RH_3,(0,0.001))\n",
    "dfkw['w_T8']=winsorize(dfk.T8,(0.05,0))\n",
    "dfkw['w_RH_8']=winsorize(dfk.RH_8,(0,0.01))\n",
    "dfkw['w_T9']=winsorize(dfk.T9,(0,0.001))\n",
    "dfkw['w_RH_9']=winsorize(dfk.RH_9,(0.001,0.001))\n",
    "dfkw['w_Tdewpoint']=winsorize(dfk.Tdewpoint,(0,0.001))\n",
    "dfkw['w_rv1']=winsorize(dfk.rv1,(0.005,0.005))\n",
    "dfkw['w_rv2']=winsorize(dfk.rv2,(0.005,0.005))"
   ]
  },
  {
   "cell_type": "code",
   "execution_count": 10,
   "metadata": {},
   "outputs": [],
   "source": [
    "df3=dfkw.copy()\n",
    "dflog=pd.DataFrame()\n",
    "for col in df3.columns:\n",
    "    dflog['log_%s'%col]=np.log(df3[col])"
   ]
  },
  {
   "cell_type": "code",
   "execution_count": 11,
   "metadata": {},
   "outputs": [],
   "source": [
    "from sklearn.preprocessing import MinMaxScaler\n",
    "scaler = MinMaxScaler(feature_range=(0,1))\n",
    "scaler.fit(dflog)\n",
    "min_max=scaler.transform(dflog)\n",
    "scale_df=pd.DataFrame(min_max)\n",
    "scale_df=scale_df.rename({0:'Appliances',1:'T1', 2:'RH_1', 3:'T2', 4:'RH_2', 5:'T3', 6:'RH_3', 7:'T4', 8:'RH_4',\n",
    "       9:'T5', 10:'RH_5', 11:'T6', 12:'RH_6', 13:'T7', 14:'RH_7', 15:'T8', 16:'RH_8', 17:'T9', 18:'RH_9',\n",
    "       19:'T_out', 20:'Press_mm_hg', 21:'RH_out', 22:'Windspeed', 24:'Visibility',25:'Tdewpoint', 26:'rv1', 27:'rv2'},axis=1)"
   ]
  },
  {
   "cell_type": "code",
   "execution_count": 12,
   "metadata": {},
   "outputs": [],
   "source": [
    "#Train-test split\n",
    "from sklearn.model_selection import train_test_split\n",
    "X = scale_df.drop('Appliances',axis=1).values\n",
    "y = scale_df.Appliances.values.reshape(-1, 1)\n",
    "X_train, X_test, y_train, y_test = train_test_split(X, y, test_size=0.2, random_state = 123)"
   ]
  },
  {
   "cell_type": "code",
   "execution_count": 13,
   "metadata": {
    "scrolled": true
   },
   "outputs": [
    {
     "name": "stderr",
     "output_type": "stream",
     "text": [
      "Using TensorFlow backend.\n"
     ]
    }
   ],
   "source": [
    "import warnings\n",
    "warnings.filterwarnings('ignore')\n",
    "from keras.layers import Dense\n",
    "from keras.models import Sequential\n",
    "model=Sequential()"
   ]
  },
  {
   "cell_type": "code",
   "execution_count": 14,
   "metadata": {},
   "outputs": [
    {
     "name": "stdout",
     "output_type": "stream",
     "text": [
      "Model: \"sequential_1\"\n",
      "_________________________________________________________________\n",
      "Layer (type)                 Output Shape              Param #   \n",
      "=================================================================\n",
      "GizliK1 (Dense)              (None, 100)               2700      \n",
      "_________________________________________________________________\n",
      "GizliK2 (Dense)              (None, 50)                5050      \n",
      "_________________________________________________________________\n",
      "GizliK3 (Dense)              (None, 25)                1275      \n",
      "_________________________________________________________________\n",
      "Cikti (Dense)                (None, 1)                 26        \n",
      "=================================================================\n",
      "Total params: 9,051\n",
      "Trainable params: 9,051\n",
      "Non-trainable params: 0\n",
      "_________________________________________________________________\n"
     ]
    }
   ],
   "source": [
    "girdi=X_train.shape[1]\n",
    "model.add(Dense(100,activation='relu',input_shape=(girdi,),name='GizliK1'))\n",
    "model.add(Dense(50,activation='relu',name='GizliK2'))\n",
    "model.add(Dense(25,activation='relu',name='GizliK3'))\n",
    "model.add(Dense(1,name='Cikti'))\n",
    "model.summary()"
   ]
  },
  {
   "cell_type": "code",
   "execution_count": 15,
   "metadata": {},
   "outputs": [
    {
     "data": {
      "text/plain": [
       "<keras.callbacks.callbacks.History at 0x13c076a8cc8>"
      ]
     },
     "execution_count": 15,
     "metadata": {},
     "output_type": "execute_result"
    }
   ],
   "source": [
    "model.compile(optimizer='adam',loss='mean_squared_error',metrics=['mse'])\n",
    "model.fit(X_train,y_train,epochs=50,verbose=0,batch_size=32)"
   ]
  },
  {
   "cell_type": "code",
   "execution_count": 17,
   "metadata": {},
   "outputs": [
    {
     "name": "stdout",
     "output_type": "stream",
     "text": [
      "2632/2632 [==============================] - 0s 27us/step\n",
      "658/658 [==============================] - 0s 29us/step\n",
      "MSE value of Train Set: 0.0011687694350257516\n",
      "MSE value of Test Set: 0.0015866541070863605\n"
     ]
    }
   ],
   "source": [
    "train=model.evaluate(X_train,y_train)[1]\n",
    "test=model.evaluate(X_test,y_test)[1]\n",
    "print('MSE value of Train Set:',train)\n",
    "print('MSE value of Test Set:',test)"
   ]
  },
  {
   "cell_type": "code",
   "execution_count": 18,
   "metadata": {},
   "outputs": [
    {
     "name": "stdout",
     "output_type": "stream",
     "text": [
      "RMSE value for Train Set: 0.03418727007272958\n",
      "RMSE value for Test Set: 0.03983282700344479\n"
     ]
    }
   ],
   "source": [
    "print('RMSE value for Train Set:',np.sqrt(train))\n",
    "print('RMSE value for Test Set:',np.sqrt(test))"
   ]
  }
 ],
 "metadata": {
  "kernelspec": {
   "display_name": "Python 3",
   "language": "python",
   "name": "python3"
  },
  "language_info": {
   "codemirror_mode": {
    "name": "ipython",
    "version": 3
   },
   "file_extension": ".py",
   "mimetype": "text/x-python",
   "name": "python",
   "nbconvert_exporter": "python",
   "pygments_lexer": "ipython3",
   "version": "3.7.6"
  }
 },
 "nbformat": 4,
 "nbformat_minor": 4
}
